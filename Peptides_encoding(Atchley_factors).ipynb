{
 "cells": [
  {
   "cell_type": "markdown",
   "id": "993dca2c-0432-471f-a50f-fb04b42a4f67",
   "metadata": {},
   "source": [
    "# Peptides encoding (Atchley factors)"
   ]
  },
  {
   "cell_type": "code",
   "execution_count": 1,
   "id": "6a2ebbdd-ef3a-4e3f-b577-8426a630052e",
   "metadata": {},
   "outputs": [],
   "source": [
    "import peptides\n",
    "import numpy as np\n",
    "import pandas as pd\n",
    "import matplotlib.pyplot as plt\n",
    "from datetime import date\n",
    "import seaborn as sns\n",
    "from math import sqrt\n",
    "\n",
    "# libs for ml\n",
    "import os\n",
    "import torch\n",
    "import torch.nn as nn\n",
    "import torch.nn.functional as F\n",
    "from sklearn.metrics import classification_report\n",
    "from sklearn.manifold import TSNE\n",
    "from sklearn.utils import shuffle\n",
    "#from umap import UMAP\n",
    "\n",
    "# my module with some func\n",
    "import pepcode"
   ]
  },
  {
   "cell_type": "markdown",
   "id": "d70299dd-cbf2-435a-92f3-d5b52aedbf57",
   "metadata": {},
   "source": [
    "Fetch all cdr3 sequences from VDJdb ver(vdjdb-2024-11-27-fixed) with `cut -f 2 vdjdb-2024-11-27-fixed/vdjdb.slim.txt | grep -v \"cdr3\" >cdr3_from_VDJdb.txt`"
   ]
  },
  {
   "cell_type": "markdown",
   "id": "d18e19a0-865f-48c7-a9ea-e934fe196184",
   "metadata": {},
   "source": [
    "## Set parameters: "
   ]
  },
  {
   "cell_type": "code",
   "execution_count": 3,
   "id": "a1a1ff61-8cad-4817-83f5-5fa464b5d2db",
   "metadata": {},
   "outputs": [],
   "source": [
    "AA_LIST = pepcode.AA_LIST\n",
    "\n",
    "latent_dims = 200\n",
    "num_epochs = 500 \n",
    "batch_size = 1000\n",
    "learning_rate = 1e-3 \n",
    "use_gpu = True\n",
    "\n",
    "# Device set\n",
    "if use_gpu and torch.cuda.is_available():\n",
    "    device = torch.device(\"cuda:0\")\n",
    "elif use_gpu and torch.backends.mps.is_available():\n",
    "    device = torch.device(\"mps\")\n",
    "else:\n",
    "    device = torch.device(\"cpu\")"
   ]
  },
  {
   "cell_type": "markdown",
   "id": "27ed3f92-b355-47f7-ae97-d38154220029",
   "metadata": {},
   "source": [
    "### Loading datasets"
   ]
  },
  {
   "cell_type": "code",
   "execution_count": null,
   "id": "4b689866-aff2-4b6c-b8f7-2c45eaa0a4b4",
   "metadata": {},
   "outputs": [],
   "source": [
    "data = pd.read_csv('./dataset/vdjdb-2024-11-27-fixed/vdjdb.slim.txt', sep = '\\t')\n",
    "data = data[(data.gene == 'TRB') & (data.species == 'HomoSapiens')]\n",
    "data.reset_index(drop=True, inplace=True)\n",
    "index_list = []\n",
    "for i in range(len(data)):\n",
    "    if len(data.iloc[i].cdr3)==15 and data.iloc[i].cdr3[0]=='C' and (data.iloc[i].cdr3[-1]=='F' or data.iloc[i].cdr3[-1]=='W'):\n",
    "        continue\n",
    "    else:\n",
    "        index_list.append(i)\n",
    "data.drop(index=index_list, inplace=True)\n",
    "data.reset_index(drop=True, inplace=True)\n",
    "data = shuffle(data)\n",
    "\n",
    "#Split dataset and prepare train, test, evaluation datasets\n",
    "train_size, test_size, eval_size = int(round(len(data)*0.7, 0)), int(round(len(data)*(0.7+0.15), 0)), int(round(len(data)*(1), 0))\n",
    "data_split = np.split(data, [train_size, test_size, eval_size], axis=0)\n",
    "data_train = data_split[0]\n",
    "data_test = data_split[1]\n",
    "data_eval = data_split[2]\n",
    "\n",
    "# Prepare peptide lists\n",
    "pep_train_list = data_train.cdr3.values\n",
    "pep_test_list = data_test.cdr3.values\n",
    "pep_eval_list = data_eval.cdr3.values\n",
    "\n",
    "len_seq = len(pep_train_list[0])\n",
    "\n",
    "\n",
    "pep_train_af = np.zeros((len(pep_train_list), 5, len_seq), dtype = np.float32)\n",
    "for i in range(len(pep_train_oh)):\n",
    "    pep_train_af[i] = pepcode.atchley_factors_code(pep_train_list[i])\n",
    "\n",
    "pep_test_af = np.zeros((len(pep_test_list), 5, len_seq), dtype = np.float32)\n",
    "for i in range(len(pep_test_list)):\n",
    "    pep_test_af[i] = pepcode.atchley_factors_code(pep_test_list[i])   \n",
    "\n",
    "\n",
    "af_matr_size = pep_test_oh[0].size\n",
    "\n",
    "# Пока не нужно\n",
    "pep_eval_af = np.zeros((len(pep_eval_list), 5, len_seq), dtype = np.float32)\n",
    "for i in range(len(pep_eval_list)):\n",
    "    pep_eval_af[i] = pepcode.atchley_factors_code(pep_eval_list[i])  \n",
    "\n",
    "# Prepare train dataloader\n",
    "af_dataset_train = torch.utils.data.TensorDataset(torch.tensor(pep_train_af), torch.tensor(np.ones(pep_train_af.shape[0])))\n",
    "af_dl_train = torch.utils.data.DataLoader(af_dataset_train, batch_size=batch_size, shuffle=False)\n",
    "\n",
    "# Prepare test dataloader\n",
    "af_dataset_test = torch.utils.data.TensorDataset(torch.tensor(pep_test_af), torch.tensor(np.ones(pep_test_af.shape[0])))\n",
    "af_dl_test= torch.utils.data.DataLoader(af_dataset_test, batch_size=batch_size, shuffle=False)\n",
    "\n",
    "# Evaluation (пока не нужно)\n",
    "af_dataset_eval = torch.utils.data.TensorDataset(torch.tensor(pep_eval_af), torch.tensor(np.ones(pep_eval_af.shape[0])))\n",
    "af_eval_dl = torch.utils.data.DataLoader(af_dataset_eval, batch_size=batch_size, shuffle=False)\n"
   ]
  },
  {
   "cell_type": "markdown",
   "id": "eee9e97c-be51-46cb-a633-07145abf9592",
   "metadata": {},
   "source": [
    "## Autoencoder"
   ]
  },
  {
   "cell_type": "code",
   "execution_count": 9,
   "id": "2f74681f-6017-4743-929a-bbe66ac32802",
   "metadata": {},
   "outputs": [
    {
     "name": "stdout",
     "output_type": "stream",
     "text": [
      "Number of parameters for Atchley factors encoding: 7625\n"
     ]
    }
   ],
   "source": [
    "class Encoder(nn.Module):\n",
    "    def __init__(self):\n",
    "        super(Encoder, self).__init__()\n",
    "        self.fc = nn.Linear(in_features=5*len_seq, out_features=latent_dims)\n",
    "            \n",
    "    def forward(self, x):\n",
    "        x = self.fc(x)\n",
    "        return x\n",
    "\n",
    "class Decoder(nn.Module):\n",
    "    def __init__(self):\n",
    "        super(Decoder, self).__init__()\n",
    "        self.fc = nn.Linear(in_features=latent_dims, out_features=5*len_seq)\n",
    "            \n",
    "    def forward(self, x):\n",
    "        x = self.fc(x)\n",
    "        return x\n",
    "    \n",
    "class Autoencoder(nn.Module):\n",
    "    def __init__(self):\n",
    "        super(Autoencoder, self).__init__()\n",
    "        self.encoder = Encoder()\n",
    "        self.decoder = Decoder()\n",
    "    \n",
    "    def forward(self, x):\n",
    "        latent = self.encoder(x)\n",
    "        x_recon = self.decoder(latent)\n",
    "        return x_recon\n",
    "    \n",
    "autoencoder_1sm= Autoencoder()\n",
    "\n",
    "autoencoder_1sm = autoencoder_1sm.to(device)\n",
    "\n",
    "num_params = sum(p.numel() for p in autoencoder_1sm.parameters() if p.requires_grad)\n",
    "print('Number of parameters for Atchley factors encoding: %d' % num_params)\n",
    "\n",
    "loss_function = nn.MSELoss()\n",
    "\n",
    "optimizer = torch.optim.Adam(autoencoder_1sm.parameters(), lr = learning_rate, weight_decay = 1e-5)"
   ]
  },
  {
   "cell_type": "markdown",
   "id": "042255c7-a72b-4336-9dd4-f1ca73d5f4ae",
   "metadata": {},
   "source": [
    "### Train autoencoder"
   ]
  },
  {
   "cell_type": "code",
   "execution_count": 10,
   "id": "6832328b-c1cb-458d-adfb-1bf400faa08b",
   "metadata": {},
   "outputs": [
    {
     "name": "stdout",
     "output_type": "stream",
     "text": [
      "Training ...\n",
      "Train finished\n"
     ]
    }
   ],
   "source": [
    "# set to training mode\n",
    "autoencoder_1sm.train()\n",
    "\n",
    "train_loss_avg_1sm = []\n",
    "\n",
    "print('Training ...')\n",
    "for epoch in range(num_epochs):\n",
    "    train_loss_avg_1sm.append(0)\n",
    "    num_batches = 0\n",
    "    \n",
    "    for pep_batch, _ in af_encoded_dl_train:\n",
    "        \n",
    "        pep_batch = pep_batch.to(device)\n",
    "\n",
    "        pep_batch = pep_batch.reshape(-1, af_matr_size)\n",
    "        \n",
    "        # autoencoder reconstruction\n",
    "        pep_batch_recon = autoencoder_1sm(pep_batch)\n",
    "        \n",
    "        # reconstruction error\n",
    "        loss = loss_function(pep_batch_recon, pep_batch)\n",
    "        \n",
    "        # backpropagation\n",
    "        optimizer.zero_grad()\n",
    "        loss.backward()\n",
    "        \n",
    "        # one step of the optmizer (using the gradients from backpropagation)\n",
    "        optimizer.step()\n",
    "        \n",
    "        train_loss_avg_1sm[-1] += loss.item()\n",
    "        num_batches += 1\n",
    "        \n",
    "    train_loss_avg_1sm[-1] /= num_batches\n",
    "    #print('Epoch [%d / %d] average reconstruction error: %f' % (epoch+1, num_epochs, train_loss_avg_1sm[-1]))\n",
    "print('Train finished')"
   ]
  },
  {
   "cell_type": "markdown",
   "id": "4522b84c-4629-4a1a-90ff-210d63012e4f",
   "metadata": {},
   "source": [
    "### Evaluation"
   ]
  },
  {
   "cell_type": "code",
   "execution_count": 11,
   "id": "3e6e9c0c-8f68-4c0f-83c7-800873f56549",
   "metadata": {},
   "outputs": [
    {
     "name": "stdout",
     "output_type": "stream",
     "text": [
      "Average reconstruction error: 0.069945\n"
     ]
    }
   ],
   "source": [
    "# set to evaluation mode\n",
    "autoencoder_1sm.eval()\n",
    "counter = 0\n",
    "\n",
    "test_loss_avg, num_batches = 0, 0\n",
    "for pep_batch, _ in af_encoded_dl_test:\n",
    "    \n",
    "    with torch.no_grad():\n",
    "\n",
    "        pep_batch = pep_batch.to(device)\n",
    "\n",
    "        pep_batch = pep_batch.reshape(-1, af_matr_size)\n",
    "\n",
    "        # autoencoder reconstruction\n",
    "        pep_batch_recon = autoencoder_1sm(pep_batch)\n",
    "\n",
    "        # reconstruction error\n",
    "        loss = loss_function(pep_batch_recon, pep_batch)\n",
    "\n",
    "        if counter == 0:\n",
    "            eval_bef_1sm = pep_batch[0].reshape(5, len_seq)\n",
    "            eval_err_1sm = loss.item()\n",
    "            eval_aft_1sm = pep_batch_recon[0].reshape(5, len_seq)\n",
    "            counter +=1\n",
    "\n",
    "        test_loss_avg += loss.item()\n",
    "        num_batches += 1\n",
    "        \n",
    "    \n",
    "test_loss_avg /= num_batches\n",
    "print('Average reconstruction error: %f' % (test_loss_avg))"
   ]
  },
  {
   "cell_type": "markdown",
   "id": "a5a7836d-226a-480b-8911-fbdabea74a63",
   "metadata": {},
   "source": [
    "## Autoencoder_1SB definition (1 layer, Sigmoid, BCE loss)"
   ]
  },
  {
   "cell_type": "code",
   "execution_count": 12,
   "id": "938c2278-acbe-4431-a344-3bcef6d69ba8",
   "metadata": {},
   "outputs": [
    {
     "name": "stdout",
     "output_type": "stream",
     "text": [
      "Number of parameters: 7625\n"
     ]
    }
   ],
   "source": [
    "autoencoder_1sb = Autoencoder()\n",
    "\n",
    "autoencoder_1sb = autoencoder_1sb.to(device)\n",
    "\n",
    "num_params = sum(p.numel() for p in autoencoder_1sb.parameters() if p.requires_grad)\n",
    "print('Number of parameters: %d' % num_params)\n",
    "\n",
    "loss_function = nn.BCELoss()\n",
    "\n",
    "optimizer = torch.optim.Adam(autoencoder_1sb.parameters(), lr = learning_rate, weight_decay = 1e-5)"
   ]
  },
  {
   "cell_type": "markdown",
   "id": "50715c4a-b931-462c-8674-a401ee3e024a",
   "metadata": {},
   "source": [
    "### Train autoencoder"
   ]
  },
  {
   "cell_type": "code",
   "execution_count": 13,
   "id": "a0f9d4f4-80c7-42d1-92c4-9bf18a7f717d",
   "metadata": {},
   "outputs": [
    {
     "name": "stdout",
     "output_type": "stream",
     "text": [
      "Training ...\n",
      "Train finished\n"
     ]
    }
   ],
   "source": [
    "autoencoder_1sb.train()\n",
    "\n",
    "train_loss_avg_1sb = []\n",
    "\n",
    "print('Training ...')\n",
    "for epoch in range(num_epochs):\n",
    "    train_loss_avg_1sb.append(0)\n",
    "    num_batches = 0\n",
    "    \n",
    "    for pep_batch, _ in af_encoded_dl_train:\n",
    "        \n",
    "        pep_batch = pep_batch.to(device)\n",
    "\n",
    "        pep_batch = pep_batch.reshape(-1, af_matr_size)\n",
    "        \n",
    "        # autoencoder reconstruction\n",
    "        pep_batch_recon = autoencoder_1sb(pep_batch)\n",
    "        \n",
    "        # reconstruction error\n",
    "        loss = loss_function(pep_batch_recon, pep_batch)\n",
    "        \n",
    "        # backpropagation\n",
    "        optimizer.zero_grad()\n",
    "        loss.backward()\n",
    "        \n",
    "        # one step of the optmizer (using the gradients from backpropagation)\n",
    "        optimizer.step()\n",
    "        \n",
    "        train_loss_avg_1sb[-1] += loss.item()\n",
    "        num_batches += 1\n",
    "        \n",
    "    train_loss_avg_1sb[-1] /= num_batches\n",
    "    #print('Epoch [%d / %d] average reconstruction error: %f' % (epoch+1, num_epochs, train_loss_avg[-1]))\n",
    "print('Train finished')"
   ]
  },
  {
   "cell_type": "markdown",
   "id": "9f7eb4db-7150-4790-b154-3397635e0e63",
   "metadata": {},
   "source": [
    "### Evaluation"
   ]
  },
  {
   "cell_type": "code",
   "execution_count": 14,
   "id": "9891be81-1501-46dd-8831-452ed54dbe51",
   "metadata": {},
   "outputs": [
    {
     "name": "stdout",
     "output_type": "stream",
     "text": [
      "Average reconstruction error: -72.867603\n"
     ]
    }
   ],
   "source": [
    "# set to evaluation mode\n",
    "autoencoder_1sb.eval()\n",
    "counter = 0\n",
    "\n",
    "test_loss_avg, num_batches = 0, 0\n",
    "for pep_batch, _ in af_encoded_dl_test:\n",
    "    \n",
    "    with torch.no_grad():\n",
    "\n",
    "        pep_batch = pep_batch.to(device)\n",
    "\n",
    "        pep_batch = pep_batch.reshape(-1, af_matr_size)\n",
    "\n",
    "        # autoencoder reconstruction\n",
    "        pep_batch_recon = autoencoder_1sb(pep_batch)\n",
    "\n",
    "        # reconstruction error\n",
    "        loss = loss_function(pep_batch_recon, pep_batch)\n",
    "\n",
    "        if counter == 0:\n",
    "            eval_bef_1sb = pep_batch[0].reshape(5, len_seq)\n",
    "            eval_err_1sb = loss.item()\n",
    "            eval_aft_1sb = pep_batch_recon[0].reshape(5, len_seq)\n",
    "            counter +=1\n",
    "\n",
    "        test_loss_avg += loss.item()\n",
    "        num_batches += 1\n",
    "        \n",
    "    \n",
    "test_loss_avg /= num_batches\n",
    "print('Average reconstruction error: %f' % (test_loss_avg))"
   ]
  },
  {
   "cell_type": "code",
   "execution_count": 15,
   "id": "14adb906-366c-488d-9db4-c7e2b330e470",
   "metadata": {},
   "outputs": [
    {
     "data": {
      "image/png": "[encoded data removed]",
      "text/plain": [
       "<Figure size 640x480 with 2 Axes>"
      ]
     },
     "metadata": {},
     "output_type": "display_data"
    }
   ],
   "source": [
    "fig, ax = plt.subplots(1, 2)\n",
    "fig.tight_layout() \n",
    "\n",
    "ax[0].plot(train_loss_avg_1sm)\n",
    "ax[0].set_title(\"Autoencoder_1SM\\n (1 layer, sigmoid, MSE loss)\")\n",
    "ax[0].set_xlabel('Epochs')\n",
    "ax[0].set_ylabel('Reconstruction error')\n",
    "\n",
    "ax[1].plot(train_loss_avg_1sb)\n",
    "ax[1].set_title(\"Autoencoder_1SB\\n (1 layer, sigmoid, BCE loss)\")\n",
    "ax[1].set_xlabel('Epochs')\n",
    "ax[1].set_ylabel('Reconstruction error')\n",
    "\n",
    "plt.show()"
   ]
  },
  {
   "cell_type": "code",
   "execution_count": 18,
   "id": "0cab06cd-8d7d-4183-822b-f08241f06ede",
   "metadata": {},
   "outputs": [
    {
     "name": "stdout",
     "output_type": "stream",
     "text": [
      "Example of reconstructions:\n",
      "Before autoencoder:\n",
      " tensor([[-1.3427, -0.2279, -0.5915,  1.5375,  1.0502, -0.0318, -0.2279, -0.3839,\n",
      "         -0.2279,  0.2600,  0.9454,  1.3573,  0.9306, -1.0061, -1.0061],\n",
      "        [ 0.4654,  1.3987, -1.3021, -0.0547,  0.3024,  0.3257,  1.3987,  1.6520,\n",
      "          1.3987,  0.8299,  0.8285, -1.4528, -0.1793, -0.5905, -0.5905],\n",
      "        [-0.8620, -4.7596, -0.7331,  1.5021, -3.6559,  2.2135, -4.7596,  1.3301,\n",
      "         -4.7596,  3.0974,  1.2991,  1.4767, -3.0049,  1.8910,  1.8910],\n",
      "        [-1.0201,  0.6702,  1.5704,  0.4403, -0.2590,  0.9079,  0.6702,  1.0450,\n",
      "          0.6702, -0.8380, -0.1688,  0.1129, -0.5026, -0.3966, -0.3966],\n",
      "        [-0.2552, -2.6475, -0.1455,  2.8974, -3.2418,  1.3134, -2.6475,  2.0639,\n",
      "         -2.6475,  1.5115,  0.9334, -0.8372, -1.8530,  0.4119,  0.4119]],\n",
      "       device='mps:0')\n",
      "After autoencoder_1sm:\n",
      " tensor([[-1.3985, -0.3476, -0.8803,  1.4518,  1.0338, -0.1294, -0.1408, -0.3265,\n",
      "         -0.3167,  0.4668,  0.6836,  1.3776,  1.0289, -1.1138, -1.0095],\n",
      "        [ 0.4468,  1.0257, -0.8996, -0.0337,  0.3626,  0.2290,  1.2148,  1.5477,\n",
      "          1.3677,  0.6779,  0.7256, -1.2645, -0.0865, -0.6963, -0.4945],\n",
      "        [-0.9267, -4.7825, -0.3533,  2.0336, -3.6499,  1.8606, -4.4743,  1.4394,\n",
      "         -4.6502,  2.9405,  1.3997,  1.4676, -3.0720,  1.7545,  1.9288],\n",
      "        [-1.0083,  0.8557,  1.3804,  0.4636, -0.2708,  0.8073,  0.7608,  1.0930,\n",
      "          0.7078, -0.4721, -0.2658,  0.0905, -0.5027, -0.5817, -0.4057],\n",
      "        [-0.2854, -2.7526, -0.2219,  2.4374, -3.1860,  1.5745, -3.0853,  2.0236,\n",
      "         -2.8705,  1.6257,  0.9077, -0.8814, -1.8951,  0.3018,  0.4839]],\n",
      "       device='mps:0')\n",
      "Reconstruction error of 1sm: 0.06840146332979202\n",
      "After autoencoder_1sb:\n",
      " tensor([[-1.4404, -0.6397, -0.4511, -0.1917, -1.0287, -0.7648, -0.4678,  0.2080,\n",
      "         -0.5102, -0.4854,  0.7793,  0.8032, -0.7478,  0.4865, -1.1215],\n",
      "        [ 0.0867, -1.3477,  1.3496,  1.4021, -0.7953, -0.4787,  0.4810,  0.5298,\n",
      "          0.5649,  0.4052,  0.7610,  0.2461, -0.5161,  0.3603, -0.5163],\n",
      "        [-1.0046, -0.8404, -4.9482, -4.8098, -1.2866, -0.3854,  1.5068,  0.3744,\n",
      "          1.7642,  1.5508,  1.3225,  1.7696,  1.9397,  3.1488,  1.8700],\n",
      "        [-1.0531,  1.6664,  0.5087,  0.7364,  0.2465,  0.5932,  0.0426,  0.1838,\n",
      "          0.4060,  0.9406, -0.2078,  0.0799, -0.0604, -0.4145, -0.2093],\n",
      "        [-0.3151, -0.3096, -2.8378, -2.7369, -1.2658, -0.5273,  1.7996,  0.2402,\n",
      "          1.5929,  1.9105,  0.7159,  1.4414,  0.9675,  1.5874,  0.4183]],\n",
      "       device='mps:0')\n",
      "Reconstruction error of 1sb: -72.64479064941406\n"
     ]
    }
   ],
   "source": [
    "print(\"Example of reconstructions:\")\n",
    "print(\"Before autoencoder:\\n\", eval_bef_1sm)\n",
    "print(\"After autoencoder_1sm:\\n\", eval_aft_1sm)\n",
    "print(\"Reconstruction error of 1sm:\", eval_err_1sm)\n",
    "print(\"After autoencoder_1sb:\\n\", eval_aft_1sb)\n",
    "print(\"Reconstruction error of 1sb:\", eval_err_1sb)"
   ]
  },
  {
   "cell_type": "code",
   "execution_count": null,
   "id": "7c693559-b489-4ced-8240-fcf9c034d1bf",
   "metadata": {},
   "outputs": [],
   "source": []
  }
 ],
 "metadata": {
  "kernelspec": {
   "display_name": "tcreppred_sil2",
   "language": "python",
   "name": "tcreppred_sil2"
  },
  "language_info": {
   "codemirror_mode": {
    "name": "ipython",
    "version": 3
   },
   "file_extension": ".py",
   "mimetype": "text/x-python",
   "name": "python",
   "nbconvert_exporter": "python",
   "pygments_lexer": "ipython3",
   "version": "3.11.11"
  }
 },
 "nbformat": 4,
 "nbformat_minor": 5
}
