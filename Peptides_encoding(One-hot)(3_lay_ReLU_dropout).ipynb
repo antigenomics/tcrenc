{
 "cells": [
  {
   "cell_type": "markdown",
   "id": "161d9d6b-b307-4f57-8cd8-a7cd4007d6ab",
   "metadata": {},
   "source": [
    "# Peptides encoding (One-hot)"
   ]
  },
  {
   "cell_type": "code",
   "execution_count": 1,
   "id": "589cfceb-08c2-4c20-ac61-8f6e22499352",
   "metadata": {},
   "outputs": [],
   "source": [
    "import peptides\n",
    "import numpy as np\n",
    "import pandas as pd\n",
    "import matplotlib.pyplot as plt\n",
    "from datetime import date\n",
    "\n",
    "# libs for ml\n",
    "import os\n",
    "import torch\n",
    "import torch.nn as nn\n",
    "import torch.nn.functional as F\n",
    "\n",
    "# my module with some func\n",
    "import pepcode"
   ]
  },
  {
   "cell_type": "markdown",
   "id": "2f323f38-d260-4841-a18e-a57a914ad8a5",
   "metadata": {},
   "source": [
    "Fetch all cdr3 sequences from VDJdb ver(vdjdb-2024-11-27-fixed) with `cut -f 2 vdjdb-2024-11-27-fixed/vdjdb.slim.txt | grep -v \"cdr3\" >cdr3_from_VDJdb.txt`"
   ]
  },
  {
   "cell_type": "markdown",
   "id": "72bc9f61-88c6-417b-b9e3-c5884b43ee0c",
   "metadata": {},
   "source": [
    "## Preparing data"
   ]
  },
  {
   "cell_type": "markdown",
   "id": "45069ad9-b280-431c-aedd-15c6988f2a58",
   "metadata": {},
   "source": [
    "Set parameters: "
   ]
  },
  {
   "cell_type": "code",
   "execution_count": 2,
   "id": "bb4a0cc4-9d98-401a-94b6-e22cdb6e6754",
   "metadata": {},
   "outputs": [],
   "source": [
    "len_seq = 15\n",
    "AA_LIST = ['-', 'A', 'C', 'D', 'E', 'F', 'G', 'H', 'I', 'K', 'L', 'M', 'N', 'P', 'Q', 'R', 'S', 'T', 'V', 'W', 'Y']"
   ]
  },
  {
   "cell_type": "code",
   "execution_count": 3,
   "id": "acf7fb8b-4e74-4f86-8d9d-893097fd1100",
   "metadata": {},
   "outputs": [
    {
     "name": "stdout",
     "output_type": "stream",
     "text": [
      "From 87032 only 18408 with the lengh of 15\n"
     ]
    }
   ],
   "source": [
    "with open(\"cdr3_from_VDJdb.txt\") as file:\n",
    "    count = 0\n",
    "    pep_dir = []\n",
    "    count_dir = 0\n",
    "    for pep in file:\n",
    "        pep = pep[:-1]\n",
    "        count += 1\n",
    "        if len(pep) == len_seq:\n",
    "            count_dir +=1\n",
    "            pep_dir.append(pep)\n",
    "    print(f'From {count} only {count_dir} with the lengh of {len_seq}')"
   ]
  },
  {
   "cell_type": "code",
   "execution_count": 4,
   "id": "b3984f5f-8040-4380-9f92-0f31fde9211d",
   "metadata": {},
   "outputs": [],
   "source": [
    "pep_oh_encoded = pepcode.one_hot_coding(pep_dir)"
   ]
  },
  {
   "cell_type": "code",
   "execution_count": 5,
   "id": "e868a868-3b6d-4fc8-ad5c-82dc0ebd276a",
   "metadata": {},
   "outputs": [
    {
     "name": "stdout",
     "output_type": "stream",
     "text": [
      "First peptide (one-hot encoded):\n",
      " [[0. 0. 0. 0. 0. 0. 0. 0. 0. 0. 0. 0. 0. 0. 0.]\n",
      " [0. 1. 1. 1. 0. 0. 0. 0. 0. 1. 0. 0. 0. 0. 0.]\n",
      " [1. 0. 0. 0. 0. 0. 0. 0. 0. 0. 0. 0. 0. 0. 0.]\n",
      " [0. 0. 0. 0. 0. 0. 0. 0. 0. 0. 1. 0. 0. 0. 0.]\n",
      " [0. 0. 0. 0. 0. 0. 0. 0. 0. 0. 0. 0. 0. 0. 0.]\n",
      " [0. 0. 0. 0. 1. 0. 0. 0. 0. 0. 0. 0. 0. 0. 1.]\n",
      " [0. 0. 0. 0. 0. 0. 1. 1. 1. 0. 0. 1. 0. 0. 0.]\n",
      " [0. 0. 0. 0. 0. 0. 0. 0. 0. 0. 0. 0. 0. 0. 0.]\n",
      " [0. 0. 0. 0. 0. 0. 0. 0. 0. 0. 0. 0. 0. 0. 0.]\n",
      " [0. 0. 0. 0. 0. 0. 0. 0. 0. 0. 0. 0. 0. 0. 0.]\n",
      " [0. 0. 0. 0. 0. 0. 0. 0. 0. 0. 0. 0. 1. 0. 0.]\n",
      " [0. 0. 0. 0. 0. 0. 0. 0. 0. 0. 0. 0. 0. 0. 0.]\n",
      " [0. 0. 0. 0. 0. 0. 0. 0. 0. 0. 0. 0. 0. 0. 0.]\n",
      " [0. 0. 0. 0. 0. 0. 0. 0. 0. 0. 0. 0. 0. 0. 0.]\n",
      " [0. 0. 0. 0. 0. 0. 0. 0. 0. 0. 0. 0. 0. 0. 0.]\n",
      " [0. 0. 0. 0. 0. 0. 0. 0. 0. 0. 0. 0. 0. 0. 0.]\n",
      " [0. 0. 0. 0. 0. 1. 0. 0. 0. 0. 0. 0. 0. 0. 0.]\n",
      " [0. 0. 0. 0. 0. 0. 0. 0. 0. 0. 0. 0. 0. 1. 0.]\n",
      " [0. 0. 0. 0. 0. 0. 0. 0. 0. 0. 0. 0. 0. 0. 0.]\n",
      " [0. 0. 0. 0. 0. 0. 0. 0. 0. 0. 0. 0. 0. 0. 0.]\n",
      " [0. 0. 0. 0. 0. 0. 0. 0. 0. 0. 0. 0. 0. 0. 0.]]\n"
     ]
    }
   ],
   "source": [
    "print(\"First peptide (one-hot encoded):\\n\", pep_oh_encoded[1])\n",
    "oh_matr_size = pep_oh_encoded[0].size"
   ]
  },
  {
   "cell_type": "markdown",
   "id": "cd927791-7153-4255-ba09-8e772c89e8e6",
   "metadata": {},
   "source": [
    "### Split datasets"
   ]
  },
  {
   "cell_type": "code",
   "execution_count": 6,
   "id": "a615e2e1-d25f-4fbe-842e-f8dc27109d0e",
   "metadata": {},
   "outputs": [],
   "source": [
    "np.random.shuffle(pep_oh_encoded)\n",
    "pep_oh_encoded_train = pep_oh_encoded[:int(round(count_dir*0.8, 0))]\n",
    "pep_oh_encoded_test = pep_oh_encoded[int(round(count_dir*0.8, 0)):]"
   ]
  },
  {
   "cell_type": "markdown",
   "id": "5ad08166-bc41-4cf8-8256-51eb60a5e90e",
   "metadata": {},
   "source": [
    "## Set parameters for ml"
   ]
  },
  {
   "cell_type": "code",
   "execution_count": 7,
   "id": "84ebb726-7cc0-4051-9214-7929e56e34c8",
   "metadata": {},
   "outputs": [],
   "source": [
    "latent_dims = 50 # надо посмотреть, что будет с длинной пептида и больше и меньше\n",
    "num_epochs = 50 \n",
    "batch_size = int(count_dir/8) # Тут надо быть аккуратней, чтобы делилось на цело\n",
    "capacity = 64\n",
    "learning_rate = 1e-3 \n",
    "use_gpu = True\n",
    "\n",
    "# Device set\n",
    "if use_gpu and torch.cuda.is_available():\n",
    "    device = torch.device(\"cuda:0\")\n",
    "elif use_gpu and torch.backends.mps.is_available():\n",
    "    device = torch.device(\"mps\")\n",
    "else:\n",
    "    device = torch.device(\"cpu\")"
   ]
  },
  {
   "cell_type": "markdown",
   "id": "45bcbe5c-c9a4-4df2-bd9b-485bf4d3e9a5",
   "metadata": {},
   "source": [
    "### Loading datasets"
   ]
  },
  {
   "cell_type": "code",
   "execution_count": 8,
   "id": "8808e28b-b9ad-4ded-b7da-f6a1731c8b04",
   "metadata": {},
   "outputs": [],
   "source": [
    "#oh_dataset = torch.utils.data.TensorDataset(torch.tensor(pep_oh_encoded), torch.tensor(np.ones(count_dir)))\n",
    "#oh_encoded_dl = torch.utils.data.DataLoader(oh_dataset, batch_size=batch_size, shuffle=True)\n",
    "\n",
    "# Train dataset\n",
    "oh_dataset_train = torch.utils.data.TensorDataset(torch.tensor(pep_oh_encoded_train), torch.tensor(np.ones(int(round(count_dir*0.8, 0)))))\n",
    "oh_encoded_dl_train = torch.utils.data.DataLoader(oh_dataset_train, batch_size=batch_size, shuffle=True)\n",
    "\n",
    "# Test dataset\n",
    "oh_dataset_test = torch.utils.data.TensorDataset(torch.tensor(pep_oh_encoded_test), torch.tensor(np.ones(count_dir - int(round(count_dir*0.8, 0)))))\n",
    "oh_encoded_dl_test = torch.utils.data.DataLoader(oh_dataset_test, batch_size=batch_size, shuffle=True)"
   ]
  },
  {
   "cell_type": "markdown",
   "id": "938cb459-8a10-4d80-813f-d8b7231f7405",
   "metadata": {},
   "source": [
    "## Autoencoder_1 definition (315->200D->100->50)"
   ]
  },
  {
   "cell_type": "code",
   "execution_count": 9,
   "id": "edf468f7-9fe8-4eb1-ace9-9b4a995ffeda",
   "metadata": {},
   "outputs": [
    {
     "name": "stdout",
     "output_type": "stream",
     "text": [
      "Number of parameters for One-hot encoding: 176965\n"
     ]
    }
   ],
   "source": [
    "class Encoder(nn.Module):\n",
    "    def __init__(self):\n",
    "        super(Encoder, self).__init__()\n",
    "        self.fc1 = nn.Linear(in_features=len(AA_LIST)*len_seq, out_features=200)\n",
    "        self.fc2 = nn.Linear(in_features=200, out_features=100)\n",
    "        self.fc3 = nn.Linear(in_features=100, out_features=latent_dims)\n",
    "            \n",
    "    def forward(self, x):\n",
    "        x = self.fc1(x)\n",
    "        x = F.dropout(x, p=0.5)\n",
    "        x = F.relu(x)\n",
    "        x = self.fc2(x)\n",
    "        x = F.relu(x)\n",
    "        x = self.fc3(x)\n",
    "        return x\n",
    "\n",
    "class Decoder(nn.Module):\n",
    "    def __init__(self):\n",
    "        super(Decoder, self).__init__()\n",
    "        self.fc1 = nn.Linear(in_features=latent_dims, out_features=100)\n",
    "        self.fc2 = nn.Linear(in_features=100, out_features=200)\n",
    "        self.fc3 = nn.Linear(in_features=200, out_features=len(AA_LIST)*len_seq)\n",
    "            \n",
    "    def forward(self, x):\n",
    "        x = self.fc1(x)\n",
    "        x = F.relu(x)\n",
    "        x = self.fc2(x)\n",
    "        x = F.relu(x)\n",
    "        x = self.fc3(x)\n",
    "        x = F.sigmoid(x)\n",
    "        return x\n",
    "    \n",
    "class Autoencoder(nn.Module):\n",
    "    def __init__(self):\n",
    "        super(Autoencoder, self).__init__()\n",
    "        self.encoder = Encoder()\n",
    "        self.decoder = Decoder()\n",
    "    \n",
    "    def forward(self, x):\n",
    "        latent = self.encoder(x)\n",
    "        x_recon = self.decoder(latent)\n",
    "        return x_recon\n",
    "    \n",
    "autoencoder_1 = Autoencoder()\n",
    "\n",
    "autoencoder_1 = autoencoder_1.to(device)\n",
    "\n",
    "num_params = sum(p.numel() for p in autoencoder_1.parameters() if p.requires_grad)\n",
    "print('Number of parameters for One-hot encoding: %d' % num_params)\n",
    "\n",
    "loss_function = nn.MSELoss()\n",
    "\n",
    "optimizer = torch.optim.Adam(autoencoder_1.parameters(), lr = learning_rate, weight_decay = 1e-5)"
   ]
  },
  {
   "cell_type": "markdown",
   "id": "f95018c2-85c8-42f5-8ae4-2cacfb2ff29e",
   "metadata": {},
   "source": [
    "### Train autoencoder"
   ]
  },
  {
   "cell_type": "code",
   "execution_count": 10,
   "id": "f37afbea-0904-47c5-bc7e-d3eaf359f9c1",
   "metadata": {},
   "outputs": [
    {
     "name": "stdout",
     "output_type": "stream",
     "text": [
      "Training ...\n",
      "Train finished\n"
     ]
    }
   ],
   "source": [
    "# set to training mode\n",
    "autoencoder_1.train()\n",
    "\n",
    "train_loss_avg_1 = []\n",
    "\n",
    "print('Training ...')\n",
    "for epoch in range(num_epochs):\n",
    "    train_loss_avg_1.append(0)\n",
    "    num_batches = 0\n",
    "    \n",
    "    for pep_batch, _ in oh_encoded_dl_train:\n",
    "        \n",
    "        pep_batch = pep_batch.to(device)\n",
    "\n",
    "        pep_batch = pep_batch.reshape(-1, oh_matr_size)\n",
    "        \n",
    "        # autoencoder reconstruction\n",
    "        pep_batch_recon = autoencoder_1(pep_batch)\n",
    "        \n",
    "        # reconstruction error\n",
    "        loss = loss_function(pep_batch_recon, pep_batch)\n",
    "        \n",
    "        # backpropagation\n",
    "        optimizer.zero_grad()\n",
    "        loss.backward()\n",
    "        \n",
    "        # one step of the optmizer (using the gradients from backpropagation)\n",
    "        optimizer.step()\n",
    "        \n",
    "        train_loss_avg_1[-1] += loss.item()\n",
    "        num_batches += 1\n",
    "        \n",
    "    train_loss_avg_1[-1] /= num_batches\n",
    "    #print('Epoch [%d / %d] average reconstruction error: %f' % (epoch+1, num_epochs, train_loss_avg_1[-1]))\n",
    "print('Train finished')"
   ]
  },
  {
   "cell_type": "markdown",
   "id": "2ea21ae0-b593-46dc-b946-1acd85167123",
   "metadata": {},
   "source": [
    "### Evaluation"
   ]
  },
  {
   "cell_type": "code",
   "execution_count": 11,
   "id": "e3f959d8-9602-48c4-be34-62861367a786",
   "metadata": {},
   "outputs": [
    {
     "name": "stdout",
     "output_type": "stream",
     "text": [
      "Average reconstruction error: 0.028513\n"
     ]
    }
   ],
   "source": [
    "# set to evaluation mode\n",
    "autoencoder_1.eval()\n",
    "counter = 0\n",
    "eval_aft_1 = np.zeros((int(round(count_dir, 0)), len(AA_LIST), len_seq), dtype = np.float32)\n",
    "\n",
    "test_loss_avg_1, num_batches = 0, 0\n",
    "for pep_batch, _ in oh_encoded_dl_test:\n",
    "    \n",
    "    with torch.no_grad():\n",
    "\n",
    "        pep_batch = pep_batch.to(device)\n",
    "\n",
    "        pep_batch = pep_batch.reshape(-1, oh_matr_size)\n",
    "\n",
    "        # autoencoder reconstruction\n",
    "        pep_batch_recon = autoencoder_1(pep_batch)\n",
    "\n",
    "        # reconstruction error\n",
    "        loss = loss_function(pep_batch_recon, pep_batch)\n",
    "\n",
    "        if counter == 0:\n",
    "            eval_bef_1 = pep_batch[0].reshape(len(AA_LIST), len_seq)\n",
    "            eval_err_1 = loss.item()\n",
    "            eval_aft_1[] = pep_batch_recon[0].reshape(len(AA_LIST), len_seq)\n",
    "            counter +=1\n",
    "\n",
    "        test_loss_avg_1 += loss.item()\n",
    "        num_batches += 1\n",
    "        \n",
    "    \n",
    "test_loss_avg_1 /= num_batches\n",
    "print('Average reconstruction error: %f' % (test_loss_avg_1))"
   ]
  },
  {
   "cell_type": "markdown",
   "id": "e6810889-3c88-4774-ba70-57d54f02d2e4",
   "metadata": {},
   "source": [
    "## Autoencoder_2 definition (315->500D->200D->50)"
   ]
  },
  {
   "cell_type": "code",
   "execution_count": 12,
   "id": "d6c3b5bd-ce90-4b5c-a2cc-7a4461e6b460",
   "metadata": {},
   "outputs": [
    {
     "name": "stdout",
     "output_type": "stream",
     "text": [
      "Number of parameters: 536765\n"
     ]
    }
   ],
   "source": [
    "class Encoder(nn.Module):\n",
    "    def __init__(self):\n",
    "        super(Encoder, self).__init__()\n",
    "        self.fc1 = nn.Linear(in_features=len(AA_LIST)*len_seq, out_features=500)\n",
    "        self.fc2 = nn.Linear(in_features=500, out_features=200)\n",
    "        self.fc3 = nn.Linear(in_features=200, out_features=latent_dims)\n",
    "            \n",
    "    def forward(self, x):\n",
    "        x = self.fc1(x)\n",
    "        x = F.dropout(x, p=0.5)\n",
    "        x = F.relu(x)\n",
    "        x = self.fc2(x)\n",
    "        x = F.dropout(x, p=0.5)\n",
    "        x = F.relu(x)\n",
    "        x = self.fc3(x)\n",
    "        return x\n",
    "\n",
    "class Decoder(nn.Module):\n",
    "    def __init__(self):\n",
    "        super(Decoder, self).__init__()\n",
    "        self.fc1 = nn.Linear(in_features=latent_dims, out_features=200)\n",
    "        self.fc2 = nn.Linear(in_features=200, out_features=500)\n",
    "        self.fc3 = nn.Linear(in_features=500, out_features=len(AA_LIST)*len_seq)\n",
    "            \n",
    "    def forward(self, x):\n",
    "        x = self.fc1(x)\n",
    "        x = F.relu(x)\n",
    "        x = self.fc2(x)\n",
    "        x = F.relu(x)\n",
    "        x = self.fc3(x)\n",
    "        x = F.sigmoid(x)\n",
    "        return x\n",
    "    \n",
    "class Autoencoder(nn.Module):\n",
    "    def __init__(self):\n",
    "        super(Autoencoder, self).__init__()\n",
    "        self.encoder = Encoder()\n",
    "        self.decoder = Decoder()\n",
    "    \n",
    "    def forward(self, x):\n",
    "        latent = self.encoder(x)\n",
    "        x_recon = self.decoder(latent)\n",
    "        return x_recon\n",
    "\n",
    "\n",
    "\n",
    "\n",
    "autoencoder_2 = Autoencoder()\n",
    "\n",
    "autoencoder_2 = autoencoder_2.to(device)\n",
    "\n",
    "num_params = sum(p.numel() for p in autoencoder_2.parameters() if p.requires_grad)\n",
    "print('Number of parameters: %d' % num_params)\n",
    "\n",
    "loss_function = nn.MSELoss()\n",
    "\n",
    "optimizer = torch.optim.Adam(autoencoder_2.parameters(), lr = learning_rate, weight_decay = 1e-5)"
   ]
  },
  {
   "cell_type": "markdown",
   "id": "03bb78ed-9541-418c-944b-bb54f93eb17b",
   "metadata": {},
   "source": [
    "### Train autoencoder"
   ]
  },
  {
   "cell_type": "code",
   "execution_count": 13,
   "id": "e8d67b73-4688-4407-8717-bb652e3a2021",
   "metadata": {},
   "outputs": [
    {
     "name": "stdout",
     "output_type": "stream",
     "text": [
      "Training ...\n",
      "Train finished\n"
     ]
    }
   ],
   "source": [
    "autoencoder_2.train()\n",
    "\n",
    "train_loss_avg_2 = []\n",
    "\n",
    "print('Training ...')\n",
    "for epoch in range(num_epochs):\n",
    "    train_loss_avg_2.append(0)\n",
    "    num_batches = 0\n",
    "    \n",
    "    for pep_batch, _ in oh_encoded_dl_train:\n",
    "        \n",
    "        pep_batch = pep_batch.to(device)\n",
    "\n",
    "        pep_batch = pep_batch.reshape(-1, oh_matr_size)\n",
    "        \n",
    "        # autoencoder reconstruction\n",
    "        pep_batch_recon = autoencoder_2(pep_batch)\n",
    "        \n",
    "        # reconstruction error\n",
    "        loss = loss_function(pep_batch_recon, pep_batch)\n",
    "        \n",
    "        # backpropagation\n",
    "        optimizer.zero_grad()\n",
    "        loss.backward()\n",
    "        \n",
    "        # one step of the optmizer (using the gradients from backpropagation)\n",
    "        optimizer.step()\n",
    "        \n",
    "        train_loss_avg_2[-1] += loss.item()\n",
    "        num_batches += 1\n",
    "        \n",
    "    train_loss_avg_2[-1] /= num_batches\n",
    "    #print('Epoch [%d / %d] average reconstruction error: %f' % (epoch+1, num_epochs, train_loss_avg[-1]))\n",
    "print('Train finished')"
   ]
  },
  {
   "cell_type": "markdown",
   "id": "03c6c325-0499-4b20-94b4-a0d8af4266ea",
   "metadata": {},
   "source": [
    "### Evaluation"
   ]
  },
  {
   "cell_type": "code",
   "execution_count": 14,
   "id": "a1538e31-40f0-477f-9fda-4723ee6280c9",
   "metadata": {},
   "outputs": [
    {
     "name": "stdout",
     "output_type": "stream",
     "text": [
      "Average reconstruction error: 0.028666\n"
     ]
    }
   ],
   "source": [
    "# set to evaluation mode\n",
    "autoencoder_2.eval()\n",
    "counter = 0\n",
    "\n",
    "test_loss_avg_2, num_batches = 0, 0\n",
    "for pep_batch, _ in oh_encoded_dl_test:\n",
    "    \n",
    "    with torch.no_grad():\n",
    "\n",
    "        pep_batch = pep_batch.to(device)\n",
    "\n",
    "        pep_batch = pep_batch.reshape(-1, oh_matr_size)\n",
    "\n",
    "        # autoencoder reconstruction\n",
    "        pep_batch_recon = autoencoder_2(pep_batch)\n",
    "\n",
    "        # reconstruction error\n",
    "        loss = loss_function(pep_batch_recon, pep_batch)\n",
    "\n",
    "        if counter == 0:\n",
    "            eval_bef_2 = pep_batch[0].reshape(len(AA_LIST), len_seq)\n",
    "            eval_err_2 = loss.item()\n",
    "            eval_aft_2 = torch.round(pep_batch_recon[0].reshape(len(AA_LIST), len_seq))\n",
    "            counter +=1\n",
    "\n",
    "        test_loss_avg_2 += loss.item()\n",
    "        num_batches += 1\n",
    "        \n",
    "    \n",
    "test_loss_avg_2 /= num_batches\n",
    "print('Average reconstruction error: %f' % (test_loss_avg_2))"
   ]
  },
  {
   "cell_type": "code",
   "execution_count": 19,
   "id": "6a5dbcef-4c13-4dfa-ad69-c0f28ca7d47d",
   "metadata": {},
   "outputs": [
    {
     "data": {
      "image/png": "[encoded data removed]",
      "text/plain": [
       "<Figure size 640x480 with 2 Axes>"
      ]
     },
     "metadata": {},
     "output_type": "display_data"
    }
   ],
   "source": [
    "fig, ax = plt.subplots(1, 2)\n",
    "\n",
    "ax[0].plot(train_loss_avg_1)\n",
    "ax[0].set_title(\"Autoencoder_1\\n (315->200D->100->50)\")\n",
    "ax[0].set_xlabel('Epochs')\n",
    "ax[0].set_ylabel('Reconstruction error')\n",
    "ax[0].text(10,0.175, F\"Average error = {round(test_loss_avg_1, 3)}\")\n",
    "\n",
    "ax[1].plot(train_loss_avg_2)\n",
    "ax[1].set_title(\"Autoencoder_2\\n (315->500D->200D->50)\")\n",
    "ax[1].set_xlabel('Epochs')\n",
    "ax[1].text(10,0.12, F\"Average error = {round(test_loss_avg_2, 3)}\")\n",
    "\n",
    "\n",
    "plt.show()\n",
    "fig.savefig(F\"{str(date.today())}_One_hot_different_arch\")"
   ]
  },
  {
   "cell_type": "code",
   "execution_count": 16,
   "id": "3e6576c1-97c8-48f7-8b02-539ed20521e3",
   "metadata": {},
   "outputs": [],
   "source": [
    "raw_eval_aft_1 = eval_aft_1.numpy(force=True)"
   ]
  },
  {
   "cell_type": "code",
   "execution_count": 17,
   "id": "d21dc891-28cf-4a60-ba12-7573833f994d",
   "metadata": {},
   "outputs": [],
   "source": [
    "raw_eval_aft_1_old = np.copy(raw_eval_aft_1)\n",
    "for i in range(len_seq):\n",
    "    col_max = np.max(raw_eval_aft_1[:,i])\n",
    "    for j in range(len(AA_LIST)):\n",
    "        if raw_eval_aft_1[j][i] == col_max:\n",
    "            raw_eval_aft_1[j][i] = 1.0\n",
    "        else: raw_eval_aft_1[j][i] = 0.0  "
   ]
  },
  {
   "cell_type": "code",
   "execution_count": 1,
   "id": "d8f5a54c-eda1-4fc3-bc2e-3feaf7609383",
   "metadata": {},
   "outputs": [
    {
     "ename": "NameError",
     "evalue": "name 'pepcode' is not defined",
     "output_type": "error",
     "traceback": [
      "\u001b[0;31m---------------------------------------------------------------------------\u001b[0m",
      "\u001b[0;31mNameError\u001b[0m                                 Traceback (most recent call last)",
      "Cell \u001b[0;32mIn[1], line 1\u001b[0m\n\u001b[0;32m----> 1\u001b[0m \u001b[38;5;28mprint\u001b[39m(\u001b[38;5;124m\"\u001b[39m\u001b[38;5;124mPeptide:\u001b[39m\u001b[38;5;124m\"\u001b[39m, pepcode\u001b[38;5;241m.\u001b[39mone_hot_decoding(eval_bef_1\u001b[38;5;241m.\u001b[39mnumpy(force\u001b[38;5;241m=\u001b[39m\u001b[38;5;28;01mTrue\u001b[39;00m)))\n\u001b[1;32m      2\u001b[0m \u001b[38;5;28mprint\u001b[39m(\u001b[38;5;124m\"\u001b[39m\u001b[38;5;124mPeptide:\u001b[39m\u001b[38;5;124m\"\u001b[39m, pepcode\u001b[38;5;241m.\u001b[39mone_hot_decoding(raw_eval_aft_1))\n\u001b[1;32m      3\u001b[0m \u001b[38;5;28mprint\u001b[39m(\u001b[38;5;124m\"\u001b[39m\u001b[38;5;124mBefore autoencoder:\u001b[39m\u001b[38;5;130;01m\\n\u001b[39;00m\u001b[38;5;124m\"\u001b[39m, eval_bef_1\u001b[38;5;241m.\u001b[39mnumpy(force\u001b[38;5;241m=\u001b[39m\u001b[38;5;28;01mTrue\u001b[39;00m))\n",
      "\u001b[0;31mNameError\u001b[0m: name 'pepcode' is not defined"
     ]
    }
   ],
   "source": [
    "print(\"Peptide:\", pepcode.one_hot_decoding(eval_bef_1.numpy(force=True)))\n",
    "print(\"Peptide:\", pepcode.one_hot_decoding(raw_eval_aft_1))\n",
    "print(\"Before autoencoder:\\n\", eval_bef_1.numpy(force=True))\n",
    "print(\"After autoencoder:\\n\", raw_eval_aft_1)  \n",
    "print(\"Peptide:\", pepcode.one_hot_decoding(raw_eval_aft_1))"
   ]
  },
  {
   "cell_type": "code",
   "execution_count": null,
   "id": "00ca9c03-1f4b-4279-b782-ccf4ca698719",
   "metadata": {},
   "outputs": [],
   "source": []
  }
 ],
 "metadata": {
  "kernelspec": {
   "display_name": "tcreppred_sil",
   "language": "python",
   "name": "tcreppred_sil"
  },
  "language_info": {
   "codemirror_mode": {
    "name": "ipython",
    "version": 3
   },
   "file_extension": ".py",
   "mimetype": "text/x-python",
   "name": "python",
   "nbconvert_exporter": "python",
   "pygments_lexer": "ipython3",
   "version": "3.12.8"
  }
 },
 "nbformat": 4,
 "nbformat_minor": 5
}
