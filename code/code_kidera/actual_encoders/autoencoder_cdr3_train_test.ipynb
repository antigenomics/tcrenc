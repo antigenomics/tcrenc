{
 "cells": [
  {
   "cell_type": "markdown",
   "id": "a55e3045-1e6c-4eb3-aa1a-5fc1555b577d",
   "metadata": {},
   "source": [
    "# Autoencoder for cdr3"
   ]
  },
  {
   "cell_type": "code",
   "execution_count": 6,
   "id": "92e3fd9e-fcea-448f-87b7-c21f64139d04",
   "metadata": {},
   "outputs": [],
   "source": [
    "from sklearn.model_selection import train_test_split\n",
    "from torch.utils.data import DataLoader, TensorDataset\n",
    "import torch.optim as optim\n",
    "import torch.nn as nn\n",
    "import torch\n",
    "from autoencoder import ConvAutoEncoder\n",
    "import numpy as np\n",
    "import os\n",
    "import sys\n",
    "from IPython import get_ipython\n",
    "from pathlib import Path\n",
    "\n",
    "\n",
    "notebook_path = get_ipython().run_line_magic(\"pwd\", \"\")\n",
    "project_root = Path(notebook_path).parent.parent.parent\n",
    "sys.path.append(str(project_root)) \n",
    "use_gpu=True\n",
    "if use_gpu and torch.cuda.is_available():\n",
    "    device = torch.device(\"cuda:0\")\n",
    "elif use_gpu and torch.backends.mps.is_available():\n",
    "    device = torch.device(\"mps\")\n",
    "else:\n",
    "    device = torch.device(\"cpu\")\n",
    "num_epochs = 100\n",
    "\n",
    "batch_size = 64\n",
    "linear = 19  \n",
    "latent_dim = 64\n",
    "num_epochs = 100"
   ]
  },
  {
   "cell_type": "code",
   "execution_count": 7,
   "id": "a1842285-9f37-4867-adc4-a41759047814",
   "metadata": {},
   "outputs": [
    {
     "name": "stderr",
     "output_type": "stream",
     "text": [
      "/scratch/ipykernel_3582598/1849923922.py:1: FutureWarning: You are using `torch.load` with `weights_only=False` (the current default value), which uses the default pickle module implicitly. It is possible to construct malicious pickle data which will execute arbitrary code during unpickling (See https://github.com/pytorch/pytorch/blob/main/SECURITY.md#untrusted-models for more details). In a future release, the default value for `weights_only` will be flipped to `True`. This limits the functions that could be executed during unpickling. Arbitrary objects will no longer be allowed to be loaded via this mode unless they are explicitly allowlisted by the user via `torch.serialization.add_safe_globals`. We recommend you start setting `weights_only=True` for any use case where you don't have full control of the loaded file. Please open an issue on GitHub for any issues related to this experimental feature.\n",
      "  data_train_cdr3=torch.load('../../../datasets/datasets_kidera/autoencoder_vdjdb_train/data_train_test_cdr3.pt')\n"
     ]
    }
   ],
   "source": [
    "data_train_cdr3=torch.load('../../../dataset/datasets_kidera/autoencoder_vdjdb_train/data_train_test_cdr3.pt')"
   ]
  },
  {
   "cell_type": "markdown",
   "id": "3ac5cd7e-3385-448a-a40d-7d96539d9cf9",
   "metadata": {},
   "source": [
    "### Train Autoencoder"
   ]
  },
  {
   "cell_type": "code",
   "execution_count": null,
   "id": "2067a80f-c8a8-47bc-a48e-05fa92a366b7",
   "metadata": {},
   "outputs": [],
   "source": [
    "# Division of data\n",
    "X_train_cdr3, X_val_cdr3 = train_test_split(data_train_cdr3, test_size=0.3, random_state=42)\n",
    "\n",
    "# DataLoaders\n",
    "\n",
    "train_loader = DataLoader(TensorDataset(X_train_cdr3), batch_size=batch_size, shuffle=True)\n",
    "val_loader = DataLoader(TensorDataset(X_val_cdr3), batch_size=batch_size)\n",
    "\n",
    "# Model\n",
    "model = ConvAutoEncoder(linear=linear, latent_dim=latent_dim).to(device)\n",
    "\n",
    "# Loss and Optimizer\n",
    "optimizer = optim.Adam(model.parameters(), lr=0.0005)\n",
    "criterion = nn.MSELoss()\n",
    "\n",
    "# Training\n",
    "train_losses, val_losses = [], []\n",
    "\n",
    "for epoch in range(num_epochs):\n",
    "    model.train()\n",
    "    epoch_train_loss = 0.0\n",
    "\n",
    "    for batch in train_loader:\n",
    "        batch_x = batch[0].to(device)\n",
    "\n",
    "        optimizer.zero_grad()\n",
    "        outputs = model(batch_x)\n",
    "        loss = criterion(outputs, batch_x)\n",
    "        loss.backward()\n",
    "        optimizer.step()\n",
    "\n",
    "        epoch_train_loss += loss.item() * batch_x.size(0)\n",
    "\n",
    "    train_loss = epoch_train_loss / len(train_loader.dataset)\n",
    "    train_losses.append(train_loss)\n",
    "\n",
    "    # Validation\n",
    "    model.eval()\n",
    "    epoch_val_loss = 0.0\n",
    "    with torch.no_grad():\n",
    "        for batch in val_loader:\n",
    "            val_x = batch[0].to(device)\n",
    "            val_outputs = model(val_x)\n",
    "            loss = criterion(val_outputs, val_x)\n",
    "            epoch_val_loss += loss.item() * val_x.size(0)\n",
    "\n",
    "    val_loss = epoch_val_loss / len(val_loader.dataset)\n",
    "    val_losses.append(val_loss)\n",
    "    if (epoch + 1) % 10 == 0:\n",
    "        print(f\"[{epoch + 1}/{num_epochs}] Train Loss: {train_loss:.4f} | Val Loss: {val_loss:.4f}\")\n"
   ]
  },
  {
   "cell_type": "markdown",
   "id": "8e056cdc-2b5c-43a7-b68d-e72215eb04b1",
   "metadata": {},
   "source": [
    "### Save model"
   ]
  },
  {
   "cell_type": "code",
   "execution_count": null,
   "id": "7a2042a4-e6cd-4293-8ed6-186007fdaaef",
   "metadata": {},
   "outputs": [],
   "source": [
    "torch.save(model.state_dict(), '/projects/tcr_nlp/conv_autoencoder/conv/cdr3.pth')"
   ]
  },
  {
   "cell_type": "markdown",
   "id": "cbd952c5-9758-44aa-81de-57b6e8ed5e2a",
   "metadata": {},
   "source": [
    "### Test Autoencoder"
   ]
  },
  {
   "cell_type": "code",
   "execution_count": 4,
   "id": "d585f8f2-2423-427a-8e32-9f7f84ad6053",
   "metadata": {},
   "outputs": [
    {
     "name": "stderr",
     "output_type": "stream",
     "text": [
      "/scratch/ipykernel_3582598/1919182399.py:2: FutureWarning: You are using `torch.load` with `weights_only=False` (the current default value), which uses the default pickle module implicitly. It is possible to construct malicious pickle data which will execute arbitrary code during unpickling (See https://github.com/pytorch/pytorch/blob/main/SECURITY.md#untrusted-models for more details). In a future release, the default value for `weights_only` will be flipped to `True`. This limits the functions that could be executed during unpickling. Arbitrary objects will no longer be allowed to be loaded via this mode unless they are explicitly allowlisted by the user via `torch.serialization.add_safe_globals`. We recommend you start setting `weights_only=True` for any use case where you don't have full control of the loaded file. Please open an issue on GitHub for any issues related to this experimental feature.\n",
      "  model.load_state_dict(torch.load('/projects/tcr_nlp/conv_autoencoder/conv/cdr3.pth'))\n"
     ]
    }
   ],
   "source": [
    "model = ConvAutoEncoder(linear=19,latent_dim=64).to(device)\n",
    "model.load_state_dict(torch.load('/projects/tcr_nlp/conv_autoencoder/conv/cdr3.pth'))\n",
    "def get_encoded_cdr(cdr_enc, model, batch_size, device='cuda'):      \n",
    "    \"\"\"\n",
    "    Pass cdr3 encodings through an autoencoder and return both encoded (latent) and decoded outputs.\n",
    "\n",
    "    Args:\n",
    "        epitope_enc (Tensor): Input tensor of encoded epitopes (e.g., physicochemical features).\n",
    "        model (nn.Module): Trained autoencoder model.\n",
    "        batch_size (int): Batch size for processing.\n",
    "        device (str): Device for computation ('cuda' or 'cpu').\n",
    "\n",
    "    Returns:\n",
    "        Tuple[Tensor, Tensor]: \n",
    "            - Encoded latent representations (shape: [N, latent_dim])\n",
    "            - Reconstructed epitopes (same shape as input)\n",
    "    \"\"\"\n",
    "    model.eval()\n",
    "    model.to(device)\n",
    "    test_loader = DataLoader(TensorDataset(cdr_enc), batch_size=batch_size)\n",
    "    encoded_cdr3, decoded_cdr3 = [], []\n",
    "\n",
    "    with torch.no_grad():\n",
    "        for batch in test_loader:\n",
    "            x = batch[0].to(device)\n",
    "            latent = model.linear_encode(model.encoder(x))\n",
    "            decoded = model(x)\n",
    "            encoded_cdr3.append(latent.cpu())\n",
    "            decoded_cdr3.append(decoded.cpu())\n",
    "    return torch.cat(encoded_cdr3), torch.cat(decoded_cdr3)\n",
    "\n",
    "encoded_cdr3,decoded_cdr3 = get_encoded_cdr(data_train_cdr3,model,batch_size)\n"
   ]
  },
  {
   "cell_type": "code",
   "execution_count": 5,
   "id": "68b02c6d-427c-4ac9-84fa-e37916306457",
   "metadata": {},
   "outputs": [],
   "source": [
    "np.save('../../../dataset/datasets_kidera/autoencoder_vdjdb_train/encoded_cdr3.npy', encoded_cdr3.numpy())\n",
    "np.save('../../../dataset/datasets_kidera/check_quality/decoded_cdr3.npy', decoded_cdr3.numpy())"
   ]
  },
  {
   "cell_type": "code",
   "execution_count": null,
   "id": "1698c57e-4a5b-4e2f-8d1b-447efa98d790",
   "metadata": {},
   "outputs": [],
   "source": []
  }
 ],
 "metadata": {
  "kernelspec": {
   "display_name": "env1",
   "language": "python",
   "name": "env1"
  },
  "language_info": {
   "codemirror_mode": {
    "name": "ipython",
    "version": 3
   },
   "file_extension": ".py",
   "mimetype": "text/x-python",
   "name": "python",
   "nbconvert_exporter": "python",
   "pygments_lexer": "ipython3",
   "version": "3.8.10"
  }
 },
 "nbformat": 4,
 "nbformat_minor": 5
}
