{
 "cells": [
  {
   "cell_type": "markdown",
   "id": "ba40a17c-b176-4957-8ee5-cb6313c0c22a",
   "metadata": {},
   "source": [
    "# Data preprocessing"
   ]
  },
  {
   "cell_type": "code",
   "execution_count": 44,
   "id": "4842c4ac-5dbe-489f-9057-9e443a88d5d6",
   "metadata": {},
   "outputs": [],
   "source": [
    "import os\n",
    "import sys\n",
    "from IPython import get_ipython\n",
    "from pathlib import Path\n",
    "\n",
    "notebook_path = get_ipython().run_line_magic(\"pwd\", \"\")\n",
    "project_root = Path(notebook_path).parent.parent.parent\n",
    "sys.path.append(str(project_root)) \n",
    "import pandas as pd\n",
    "import numpy as np\n",
    "from modules.modules_kidera.kidera import kidera_final_dict\n",
    "import torch"
   ]
  },
  {
   "cell_type": "code",
   "execution_count": 36,
   "id": "f06e7ea4-50c0-477c-adc7-515bbd7d2910",
   "metadata": {},
   "outputs": [],
   "source": [
    "def sequence_to_factor(sequence, kidera_dict):\n",
    "    return np.array([kidera_dict[aa] for aa in sequence], dtype=np.float32).T"
   ]
  },
  {
   "cell_type": "markdown",
   "id": "e2aa11ce-116c-4a08-98bb-344fa7024574",
   "metadata": {},
   "source": [
    "## Data preprocessing for cdr3 sequences"
   ]
  },
  {
   "cell_type": "code",
   "execution_count": 37,
   "id": "7e81921c-f19c-4555-af92-93542025972e",
   "metadata": {},
   "outputs": [],
   "source": [
    "data=pd.read_csv('../../../dataset/datasets_kidera/autoencoder_vdjdb_train/vdj_preprocessed.csv')"
   ]
  },
  {
   "cell_type": "code",
   "execution_count": 38,
   "id": "f3bfaacd-2c3a-480e-a46f-0ecff5e8a8ed",
   "metadata": {},
   "outputs": [],
   "source": [
    "def insert_x(x):\n",
    "    length_X = 19 - len(x)\n",
    "    if len(x) == 4:\n",
    "        return x[:2] + 'X' * 15 + x[2:]\n",
    "    elif len(x) == 5:\n",
    "        return x[:2] + 'X' * 7 + x[2] + 'X' * 7 + x[3:]\n",
    "    elif len(x) == 6:\n",
    "        return x[:3] + 'X' * 13 + x[3:]\n",
    "    else:\n",
    "        pref, suff = x[:3], x[-3:]\n",
    "        mid = x[3:-3]\n",
    "        return pref + 'X' * (length_X // 2 + length_X % 2) + mid + 'X' * (length_X // 2) + suff"
   ]
  },
  {
   "cell_type": "code",
   "execution_count": 39,
   "id": "d2e672fb-ef23-4c77-9658-5fadaa98e906",
   "metadata": {},
   "outputs": [],
   "source": [
    "data['cdr3'] = data['cdr3'].apply(insert_x)\n",
    "binding=data[['bind']]"
   ]
  },
  {
   "cell_type": "code",
   "execution_count": 40,
   "id": "26ab9247-b598-49bb-a8c9-4a4875be45cf",
   "metadata": {},
   "outputs": [],
   "source": [
    "data.to_csv('../../../dataset/datasets_kidera/check_quality/cdr3_quality.csv')"
   ]
  },
  {
   "cell_type": "code",
   "execution_count": 41,
   "id": "31fa19ad-aab6-47e8-9d64-1c583ba338a0",
   "metadata": {},
   "outputs": [],
   "source": [
    "data_cdr3=data[['cdr3']]"
   ]
  },
  {
   "cell_type": "code",
   "execution_count": 42,
   "id": "554b290c-6f33-477d-882a-b63dfef7244a",
   "metadata": {},
   "outputs": [],
   "source": [
    "data_train_test_cdr3 = torch.tensor(np.stack(data_cdr3['cdr3'].map(\n",
    "    lambda seq: sequence_to_factor(seq, kidera_final_dict)\n",
    ").values, axis=0),dtype=torch.float32).unsqueeze(1)"
   ]
  },
  {
   "cell_type": "code",
   "execution_count": 43,
   "id": "2dbbbe76-e502-4531-b4f5-9363be0ab0c9",
   "metadata": {},
   "outputs": [],
   "source": [
    "torch.save(data_train_test_cdr3, '../../../dataset/datasets_kidera/autoencoder_vdjdb_train/data_train_test_cdr3.pt')\n",
    "binding.to_csv('../../../dataset/datasets_kidera/autoencoder_vdjdb_train/binding.csv')"
   ]
  },
  {
   "cell_type": "markdown",
   "id": "3d5541a8-57de-4a10-8e5c-17801d9f9f81",
   "metadata": {},
   "source": [
    "## Data preprocessing for epitope sequences"
   ]
  },
  {
   "cell_type": "code",
   "execution_count": 27,
   "id": "de247761-3a1a-4841-b281-cdbd6116a10c",
   "metadata": {},
   "outputs": [],
   "source": [
    "epitopes=pd.read_csv('../../../dataset/datasets_kidera/autoencoder_epitope_train/epitope_clean.csv')\n",
    "epitopes = epitopes[(epitopes['Epitope - Object Type'] == 'Linear peptide') & (epitopes['Epitope - Species'] == 'Homo sapiens')]\n",
    "epitopes = epitopes['Epitope - Name']\n",
    "epitopes = epitopes[~epitopes.str.contains(r'[a-z()0-9\\s]')] \n",
    "epitopes = epitopes[(epitopes.str.len() >= 6) & (epitopes.str.len() <= 20)]\n",
    "epitopes_test=data[['antigen_epitope']]\n",
    "epitopes_test = epitopes_test[~epitopes_test['antigen_epitope'].str.startswith('KLG')]\n",
    "epitopes.name='antigen_epitope'"
   ]
  },
  {
   "cell_type": "code",
   "execution_count": 32,
   "id": "e72faa9d-7923-4246-8cd1-4c7a27102c7a",
   "metadata": {},
   "outputs": [],
   "source": [
    "def func_antigen(antigen):\n",
    "    n=20\n",
    "    start_end=(n-len(antigen))//2\n",
    "    if len(antigen)%2==0:\n",
    "        return start_end*'X'+antigen+start_end*'X'\n",
    "    else:\n",
    "        return start_end*'X'+antigen[:len(antigen)//2]+'X'+antigen[len(antigen)//2:]+start_end*'X' \n",
    "def epitope_to_kidera(epitopes,kidera_dict):\n",
    "    epitopes = epitopes.apply(func_antigen)\n",
    "    epitopes_test_tensor=epitopes_test.apply(func_antigen)\n",
    "    epitopes.to_csv('../../../dataset/datasets_kidera/check_quality/epitopes_quality.csv',index=False)\n",
    "    factors_array = np.stack(epitopes.map(lambda seq: sequence_to_factor(seq, kidera_dict)).values, axis=0)\n",
    "    factors_tensor = torch.tensor(factors_array, dtype=torch.float32).unsqueeze(1) \n",
    "    return factors_tensor\n",
    "epitope_tensor=epitope_to_kidera(epitopes,kidera_final_dict)\n",
    "epitopes_test_tensor=epitope_to_kidera(epitopes_test['antigen_epitope'],kidera_final_dict)"
   ]
  },
  {
   "cell_type": "code",
   "execution_count": 33,
   "id": "84be5169-45a4-4d22-af99-f00ed90937fb",
   "metadata": {},
   "outputs": [],
   "source": [
    "torch.save(epitope_tensor, '../../../dataset/datasets_kidera/autoencoder_epitope_train/epitope_tensor.pt')\n",
    "torch.save(epitopes_test_tensor,'../../../dataset/datasets_kidera/autoencoder_epitope_train/epitopes_test_tensor.pt')"
   ]
  },
  {
   "cell_type": "code",
   "execution_count": 34,
   "id": "0e31111e-348b-4e44-8de1-c74649e8090d",
   "metadata": {},
   "outputs": [
    {
     "data": {
      "text/plain": [
       "1247760"
      ]
     },
     "execution_count": 34,
     "metadata": {},
     "output_type": "execute_result"
    }
   ],
   "source": [
    "epitopes=pd.read_csv('../../../dataset/datasets_kidera/check_quality/epitopes_quality.csv')\n",
    "len(epitopes['antigen_epitope'].str.cat(sep=''))"
   ]
  },
  {
   "cell_type": "code",
   "execution_count": null,
   "id": "147637fc-b5b9-465b-830e-2c59c102ea46",
   "metadata": {},
   "outputs": [],
   "source": []
  }
 ],
 "metadata": {
  "kernelspec": {
   "display_name": "env1",
   "language": "python",
   "name": "env1"
  },
  "language_info": {
   "codemirror_mode": {
    "name": "ipython",
    "version": 3
   },
   "file_extension": ".py",
   "mimetype": "text/x-python",
   "name": "python",
   "nbconvert_exporter": "python",
   "pygments_lexer": "ipython3",
   "version": "3.8.10"
  }
 },
 "nbformat": 4,
 "nbformat_minor": 5
}
