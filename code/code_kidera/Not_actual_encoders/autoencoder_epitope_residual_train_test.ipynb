{
 "cells": [
  {
   "cell_type": "markdown",
   "id": "f9d1db82-0757-4eaf-8a14-5eb7101a98dd",
   "metadata": {},
   "source": [
    "# Autoencoder for epitope"
   ]
  },
  {
   "cell_type": "code",
   "execution_count": 4,
   "id": "b695b33b-6b47-4f0c-bfb2-762be2665fec",
   "metadata": {},
   "outputs": [],
   "source": [
    "from sklearn.model_selection import train_test_split\n",
    "from torch.utils.data import DataLoader, TensorDataset\n",
    "import torch.optim as optim\n",
    "import torch.nn as nn\n",
    "import torch\n",
    "import numpy as np\n",
    "from autoencoder_residual import ConvAutoEncoderRes\n",
    "use_gpu=True\n",
    "if use_gpu and torch.cuda.is_available():\n",
    "    device = torch.device(\"cuda:0\")\n",
    "elif use_gpu and torch.backends.mps.is_available():\n",
    "    device = torch.device(\"mps\")\n",
    "else:\n",
    "    device = torch.device(\"cpu\")\n",
    "\n",
    "num_epochs = 100\n",
    "batch_size=64\n",
    "latent_dim=64\n",
    "linear=20"
   ]
  },
  {
   "cell_type": "markdown",
   "id": "7c1c9377-885e-464e-9415-fe0ff699d0f4",
   "metadata": {},
   "source": [
    "### Train autoencoder"
   ]
  },
  {
   "cell_type": "code",
   "execution_count": 5,
   "id": "d3299f5a-a239-4927-9a5a-0ceb6097b1a3",
   "metadata": {},
   "outputs": [
    {
     "name": "stderr",
     "output_type": "stream",
     "text": [
      "/scratch/ipykernel_3616969/3320305032.py:1: FutureWarning: You are using `torch.load` with `weights_only=False` (the current default value), which uses the default pickle module implicitly. It is possible to construct malicious pickle data which will execute arbitrary code during unpickling (See https://github.com/pytorch/pytorch/blob/main/SECURITY.md#untrusted-models for more details). In a future release, the default value for `weights_only` will be flipped to `True`. This limits the functions that could be executed during unpickling. Arbitrary objects will no longer be allowed to be loaded via this mode unless they are explicitly allowlisted by the user via `torch.serialization.add_safe_globals`. We recommend you start setting `weights_only=True` for any use case where you don't have full control of the loaded file. Please open an issue on GitHub for any issues related to this experimental feature.\n",
      "  epitope_tensor=torch.load(\"../../../datasets/datasets_kidera/autoencoder_epitope_train/epitope_tensor.pt\")\n"
     ]
    }
   ],
   "source": [
    "epitope_tensor=torch.load(\"../../../dataset/datasets_kidera/autoencoder_epitope_train/epitope_tensor.pt\")"
   ]
  },
  {
   "cell_type": "code",
   "execution_count": 3,
   "id": "7f67d35e-090c-41e5-88a0-a2c75f5d22bc",
   "metadata": {},
   "outputs": [
    {
     "name": "stderr",
     "output_type": "stream",
     "text": [
      "/scratch/ipykernel_1097626/1382177684.py:1: FutureWarning: You are using `torch.load` with `weights_only=False` (the current default value), which uses the default pickle module implicitly. It is possible to construct malicious pickle data which will execute arbitrary code during unpickling (See https://github.com/pytorch/pytorch/blob/main/SECURITY.md#untrusted-models for more details). In a future release, the default value for `weights_only` will be flipped to `True`. This limits the functions that could be executed during unpickling. Arbitrary objects will no longer be allowed to be loaded via this mode unless they are explicitly allowlisted by the user via `torch.serialization.add_safe_globals`. We recommend you start setting `weights_only=True` for any use case where you don't have full control of the loaded file. Please open an issue on GitHub for any issues related to this experimental feature.\n",
      "  epitope_tensor=torch.load(\"../../datasets/autoencoder_epitope_train/epitope_tensor.pt\")\n"
     ]
    },
    {
     "name": "stdout",
     "output_type": "stream",
     "text": [
      "[10/100] Train Loss: 0.4228 | Val Loss: 0.4211\n",
      "[20/100] Train Loss: 0.4003 | Val Loss: 0.3985\n",
      "[30/100] Train Loss: 0.3824 | Val Loss: 0.3801\n",
      "[40/100] Train Loss: 0.3746 | Val Loss: 0.3732\n",
      "[50/100] Train Loss: 0.3690 | Val Loss: 0.3684\n",
      "[60/100] Train Loss: 0.3642 | Val Loss: 0.3609\n",
      "[70/100] Train Loss: 0.3571 | Val Loss: 0.3555\n",
      "[80/100] Train Loss: 0.3560 | Val Loss: 0.3553\n",
      "[90/100] Train Loss: 0.3553 | Val Loss: 0.3530\n",
      "[100/100] Train Loss: 0.3536 | Val Loss: 0.3534\n"
     ]
    }
   ],
   "source": [
    "X_train_epitope,X_val_epitope=train_test_split(epitope_tensor,test_size=0.3,random_state=42)\n",
    "\n",
    "# DataLoaders\n",
    "train_loader = DataLoader(TensorDataset(X_train_epitope), batch_size=batch_size, shuffle=True)\n",
    "val_loader = DataLoader(TensorDataset(X_val_epitope), batch_size=batch_size)\n",
    "model = ConvAutoEncoderRes(linear,latent_dim=64).to(device)\n",
    "optimizer = optim.Adam(model.parameters(),  lr=1e-3, weight_decay=1e-5)\n",
    "criterion = nn.MSELoss()\n",
    "\n",
    "\n",
    "train_losses, test_losses = [], []\n",
    "\n",
    "# Training\n",
    "for epoch in range(num_epochs):\n",
    "    model.train()\n",
    "    epoch_loss = 0\n",
    "\n",
    "    for batch in train_loader:\n",
    "        batch_x = batch[0].to(device)\n",
    "        optimizer.zero_grad()\n",
    "        outputs = model(batch_x)\n",
    "        loss = criterion(outputs, batch_x)\n",
    "        loss.backward()\n",
    "        optimizer.step()\n",
    "        epoch_loss += loss.item() * batch_x.size(0)\n",
    "\n",
    "    train_losses.append(epoch_loss / len(train_loader.dataset))\n",
    "\n",
    "    # Validation\n",
    "    model.eval()\n",
    "    val_loss = 0\n",
    "    with torch.no_grad():\n",
    "        for batch in val_loader:\n",
    "            val_x = batch[0].to(device)\n",
    "            val_outputs = model(val_x)\n",
    "            loss = criterion(val_outputs, val_x)\n",
    "            val_loss += loss.item() * val_x.size(0)\n",
    "    test_losses.append(val_loss / len(val_loader.dataset))\n",
    "\n",
    "    if (epoch + 1) % 10 == 0:\n",
    "        print(f\"[{epoch+1}/{num_epochs}] Train Loss: {train_losses[-1]:.4f} | Val Loss: {test_losses[-1]:.4f}\")"
   ]
  },
  {
   "cell_type": "markdown",
   "id": "c6bb50ce-f87e-448e-8d27-67e5acec29ec",
   "metadata": {},
   "source": [
    "### Save autoencoder"
   ]
  },
  {
   "cell_type": "code",
   "execution_count": 4,
   "id": "b4c9e2dd-5a19-45db-93f7-e713210ce9bb",
   "metadata": {},
   "outputs": [],
   "source": [
    "torch.save(model.state_dict(), '/projects/tcr_nlp/conv_autoencoder/conv_res_block/epitope_res.pth')"
   ]
  },
  {
   "cell_type": "markdown",
   "id": "18fc3d89-3368-499d-8bc8-746a5a446c56",
   "metadata": {},
   "source": [
    "### Test autoencoder"
   ]
  },
  {
   "cell_type": "code",
   "execution_count": 6,
   "id": "93fee6ca-2657-47a1-beff-f61f7e2c759f",
   "metadata": {},
   "outputs": [
    {
     "name": "stderr",
     "output_type": "stream",
     "text": [
      "/scratch/ipykernel_3616969/1946674441.py:2: FutureWarning: You are using `torch.load` with `weights_only=False` (the current default value), which uses the default pickle module implicitly. It is possible to construct malicious pickle data which will execute arbitrary code during unpickling (See https://github.com/pytorch/pytorch/blob/main/SECURITY.md#untrusted-models for more details). In a future release, the default value for `weights_only` will be flipped to `True`. This limits the functions that could be executed during unpickling. Arbitrary objects will no longer be allowed to be loaded via this mode unless they are explicitly allowlisted by the user via `torch.serialization.add_safe_globals`. We recommend you start setting `weights_only=True` for any use case where you don't have full control of the loaded file. Please open an issue on GitHub for any issues related to this experimental feature.\n",
      "  model.load_state_dict(torch.load('/projects/tcr_nlp/conv_autoencoder/conv_res_block/epitope_res.pth'))\n",
      "/scratch/ipykernel_3616969/1946674441.py:32: FutureWarning: You are using `torch.load` with `weights_only=False` (the current default value), which uses the default pickle module implicitly. It is possible to construct malicious pickle data which will execute arbitrary code during unpickling (See https://github.com/pytorch/pytorch/blob/main/SECURITY.md#untrusted-models for more details). In a future release, the default value for `weights_only` will be flipped to `True`. This limits the functions that could be executed during unpickling. Arbitrary objects will no longer be allowed to be loaded via this mode unless they are explicitly allowlisted by the user via `torch.serialization.add_safe_globals`. We recommend you start setting `weights_only=True` for any use case where you don't have full control of the loaded file. Please open an issue on GitHub for any issues related to this experimental feature.\n",
      "  epitope_tensor=torch.load('../../../datasets/datasets_kidera/autoencoder_epitope_train/epitopes_test_tensor.pt')\n"
     ]
    }
   ],
   "source": [
    "model=ConvAutoEncoderRes(linear,latent_dim=64)\n",
    "model.load_state_dict(torch.load('/projects/tcr_nlp/conv_autoencoder/conv_res_block/epitope_res.pth'))\n",
    "def get_encoded_epitope(epitope_enc, model, batch_size, device='cuda'):        \n",
    "    \"\"\"\n",
    "    Pass epitope encodings through an autoencoder and return both encoded (latent) and decoded outputs.\n",
    "\n",
    "    Args:\n",
    "        epitope_enc (Tensor): Input tensor of encoded epitopes (e.g., physicochemical features).\n",
    "        model (nn.Module): Trained autoencoder model.\n",
    "        batch_size (int): Batch size for processing.\n",
    "        device (str): Device for computation ('cuda' or 'cpu').\n",
    "\n",
    "    Returns:\n",
    "        Tuple[Tensor, Tensor]: \n",
    "            - Encoded latent representations (shape: [N, latent_dim])\n",
    "            - Reconstructed epitopes (same shape as input)\n",
    "    \"\"\"\n",
    "    model.eval()\n",
    "    model.to(device)\n",
    "    test_loader = DataLoader(TensorDataset(epitope_enc), batch_size=batch_size)\n",
    "    encoded_epitope, decoded_epitope = [], []\n",
    "\n",
    "    with torch.no_grad():\n",
    "        for batch in test_loader:\n",
    "            x = batch[0].to(device)\n",
    "            latent = model.linear_encode(model.encoder(x))\n",
    "            decoded = model(x)\n",
    "            encoded_epitope.append(latent.cpu())\n",
    "            decoded_epitope.append(decoded.cpu())\n",
    "\n",
    "    return torch.cat(encoded_epitope), torch.cat(decoded_epitope)\n",
    "epitope_tensor=torch.load('../../../dataset/datasets_kidera/autoencoder_epitope_train/epitopes_test_tensor.pt')\n",
    "encoded_epitope,decoded_epitope = get_encoded_epitope(epitope_tensor,model,64)"
   ]
  },
  {
   "cell_type": "code",
   "execution_count": 7,
   "id": "b3b63c15-8668-4e3f-892c-4660930133e5",
   "metadata": {},
   "outputs": [],
   "source": [
    "np.save('../../../dataset/datasets_kidera/autoencoder_residual_data/encoded_epitope_res.npy', encoded_epitope.numpy())\n",
    "np.save('../../../dataset/datasets_kidera/check_quality/decoded_epitope_res.npy', decoded_epitope.numpy())"
   ]
  },
  {
   "cell_type": "code",
   "execution_count": null,
   "id": "965ce1af-e169-4dd5-a568-e74089829e44",
   "metadata": {},
   "outputs": [],
   "source": []
  }
 ],
 "metadata": {
  "kernelspec": {
   "display_name": "env1",
   "language": "python",
   "name": "env1"
  },
  "language_info": {
   "codemirror_mode": {
    "name": "ipython",
    "version": 3
   },
   "file_extension": ".py",
   "mimetype": "text/x-python",
   "name": "python",
   "nbconvert_exporter": "python",
   "pygments_lexer": "ipython3",
   "version": "3.8.10"
  }
 },
 "nbformat": 4,
 "nbformat_minor": 5
}
