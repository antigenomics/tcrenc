{
 "cells": [
  {
   "cell_type": "markdown",
   "id": "56f6513f-f0b5-4af1-85d2-e618d41d0661",
   "metadata": {},
   "source": [
    "## Peptides encoding"
   ]
  },
  {
   "cell_type": "code",
   "execution_count": 1,
   "id": "281756e5-c1ac-4a8b-98f5-b64681c9a483",
   "metadata": {},
   "outputs": [],
   "source": [
    "import peptides\n",
    "import numpy as np\n",
    "import pandas as pd\n",
    "import matplotlib.pyplot as plt\n",
    "# libs for ml\n",
    "import os\n",
    "\n",
    "import torch\n",
    "import torch.nn as nn\n",
    "import torch.nn.functional as F"
   ]
  },
  {
   "cell_type": "markdown",
   "id": "8a5995f4-87db-41e2-84ec-717a95b1cac8",
   "metadata": {},
   "source": [
    "Fetch all cdr3 sequences from VDJdb ver(vdjdb-2024-11-27-fixed) with `cut -f 2 vdjdb-2024-11-27-fixed/vdjdb.slim.txt | grep -v \"cdr3\" >cdr3_from_VDJdb.txt`"
   ]
  },
  {
   "cell_type": "markdown",
   "id": "9af9a125-1360-441e-9cfe-43b1565c1096",
   "metadata": {},
   "source": [
    "Set length of sequence: "
   ]
  },
  {
   "cell_type": "code",
   "execution_count": 2,
   "id": "52f63fe3-b643-4988-a22c-a29a58631ecf",
   "metadata": {},
   "outputs": [],
   "source": [
    "len_seq = 15"
   ]
  },
  {
   "cell_type": "code",
   "execution_count": 3,
   "id": "b3726799-d5ca-4816-83f6-43bfdc2be1a1",
   "metadata": {},
   "outputs": [
    {
     "name": "stdout",
     "output_type": "stream",
     "text": [
      "From 87032 only 18408 with the lengh of 15\n"
     ]
    }
   ],
   "source": [
    "with open(\"cdr3_from_VDJdb.txt\") as file:\n",
    "    count = 0\n",
    "    pep_dir = []\n",
    "    count_dir = 0\n",
    "    for pep in file:\n",
    "        pep = pep[:-1]\n",
    "        count += 1\n",
    "        if len(pep) == len_seq:\n",
    "            count_dir +=1\n",
    "            pep_dir.append(pep)\n",
    "    print(f'From {count} only {count_dir} with the lengh of {len_seq}')"
   ]
  },
  {
   "cell_type": "code",
   "execution_count": 4,
   "id": "3030c196-2724-41ad-b167-b5d8e18480db",
   "metadata": {},
   "outputs": [],
   "source": [
    " AA_LIST = ['A', 'C', 'D', 'E', 'F', 'G', 'H', 'I', 'K', 'L', 'M', 'N', 'P', 'Q', 'R', 'S', 'T', 'V', 'W', 'Y']"
   ]
  },
  {
   "cell_type": "code",
   "execution_count": 6,
   "id": "76305679-89e4-4ce3-a19a-1690bccbf307",
   "metadata": {},
   "outputs": [],
   "source": [
    "pep_oh_encoded = np.zeros((count_dir, len(AA_LIST), len(pep)), dtype = np.float32)\n",
    "pep_af_encoded = np.zeros((count_dir, 5, len(pep)), dtype = np.float32)\n",
    "for k, pep in enumerate(pep_dir):\n",
    "    for i in range(len(pep)):\n",
    "        for j in range(len(AA_LIST)):\n",
    "            if AA_LIST[j] == pep[i]:\n",
    "                pep_oh_encoded[k][j][i] = 1\n",
    "    for i in range(len(pep)):\n",
    "        pep1 = peptides.Peptide(pep[i])\n",
    "        for j, kf in enumerate(pep1.atchley_factors()):\n",
    "            pep_af_encoded[k][j][i] = kf"
   ]
  },
  {
   "cell_type": "code",
   "execution_count": 7,
   "id": "3d0d44fa-4d41-4ebc-8716-ba0eb92b6d2b",
   "metadata": {},
   "outputs": [
    {
     "name": "stdout",
     "output_type": "stream",
     "text": [
      "First peptide (one-hot encoded):\n",
      " [[0. 1. 1. 1. 1. 0. 0. 0. 0. 0. 0. 0. 0. 0. 0.]\n",
      " [1. 0. 0. 0. 0. 0. 0. 0. 0. 0. 0. 0. 0. 0. 0.]\n",
      " [0. 0. 0. 0. 0. 0. 0. 0. 0. 0. 0. 0. 0. 0. 0.]\n",
      " [0. 0. 0. 0. 0. 0. 0. 0. 0. 0. 0. 0. 0. 0. 0.]\n",
      " [0. 0. 0. 0. 0. 0. 0. 0. 0. 0. 0. 0. 0. 0. 1.]\n",
      " [0. 0. 0. 0. 0. 0. 0. 1. 0. 0. 1. 0. 0. 0. 0.]\n",
      " [0. 0. 0. 0. 0. 0. 0. 0. 0. 0. 0. 0. 0. 0. 0.]\n",
      " [0. 0. 0. 0. 0. 0. 0. 0. 0. 0. 0. 0. 0. 1. 0.]\n",
      " [0. 0. 0. 0. 0. 0. 0. 0. 0. 0. 0. 1. 0. 0. 0.]\n",
      " [0. 0. 0. 0. 0. 0. 0. 0. 0. 0. 0. 0. 1. 0. 0.]\n",
      " [0. 0. 0. 0. 0. 0. 0. 0. 0. 0. 0. 0. 0. 0. 0.]\n",
      " [0. 0. 0. 0. 0. 0. 0. 0. 1. 0. 0. 0. 0. 0. 0.]\n",
      " [0. 0. 0. 0. 0. 0. 1. 0. 0. 0. 0. 0. 0. 0. 0.]\n",
      " [0. 0. 0. 0. 0. 0. 0. 0. 0. 0. 0. 0. 0. 0. 0.]\n",
      " [0. 0. 0. 0. 0. 0. 0. 0. 0. 0. 0. 0. 0. 0. 0.]\n",
      " [0. 0. 0. 0. 0. 0. 0. 0. 0. 0. 0. 0. 0. 0. 0.]\n",
      " [0. 0. 0. 0. 0. 1. 0. 0. 0. 1. 0. 0. 0. 0. 0.]\n",
      " [0. 0. 0. 0. 0. 0. 0. 0. 0. 0. 0. 0. 0. 0. 0.]\n",
      " [0. 0. 0. 0. 0. 0. 0. 0. 0. 0. 0. 0. 0. 0. 0.]\n",
      " [0. 0. 0. 0. 0. 0. 0. 0. 0. 0. 0. 0. 0. 0. 0.]]\n",
      "First peptide (atchley_factors encoded):\n",
      " [[-1.34 -0.59 -0.59 -0.59 -0.59 -0.03  0.19 -0.38  0.95 -0.03 -0.38  1.83\n",
      "  -1.02 -1.24 -1.01]\n",
      " [ 0.47 -1.3  -1.3  -1.3  -1.3   0.33  2.08  1.65  0.83  0.33  1.65 -0.56\n",
      "  -0.99 -0.55 -0.59]\n",
      " [-0.86 -0.73 -0.73 -0.73 -0.73  2.21 -1.63  1.33  1.3   2.21  1.33  0.53\n",
      "  -1.5   2.13  1.89]\n",
      " [-1.02  1.57  1.57  1.57  1.57  0.91  0.42  1.04 -0.17  0.91  1.04 -0.28\n",
      "   1.27  0.39 -0.4 ]\n",
      " [-0.26 -0.15 -0.15 -0.15 -0.15  1.31 -1.39  2.06  0.93  1.31  2.06  1.65\n",
      "  -0.91  0.82  0.41]]\n"
     ]
    }
   ],
   "source": [
    "print(\"First peptide (one-hot encoded):\\n\", pep_oh_encoded[0])\n",
    "print(\"First peptide (atchley_factors encoded):\\n\", np.round(pep_af_encoded[0], 2))\n",
    "#print(pep_oh_encoded[0].reshape(-1, pep_oh_encoded[0].size))\n",
    "oh_matr_size = pep_oh_encoded[0].size\n",
    "af_matr_size = pep_af_encoded[0].size"
   ]
  },
  {
   "cell_type": "markdown",
   "id": "1f894347-bb2e-43da-811b-ef6e9abc6791",
   "metadata": {},
   "source": [
    "### Set Variables"
   ]
  },
  {
   "cell_type": "code",
   "execution_count": 8,
   "id": "3461bbf5-6601-471e-929d-0738021e6516",
   "metadata": {},
   "outputs": [],
   "source": [
    "latent_dims = 10\n",
    "num_epochs = 50 \n",
    "batch_size = int(count_dir/8) # Тут надо быть аккуратней, чтобы делилось на цело\n",
    "capacity = 64\n",
    "learning_rate = 1e-3 \n",
    "use_gpu = True"
   ]
  },
  {
   "cell_type": "markdown",
   "id": "44f782df-b1d1-4e8f-bacd-a3cd44311327",
   "metadata": {},
   "source": [
    "### Split datasets"
   ]
  },
  {
   "cell_type": "code",
   "execution_count": 9,
   "id": "d1e75944-c6d5-4ed3-866b-9350ee42b5e8",
   "metadata": {},
   "outputs": [
    {
     "name": "stdout",
     "output_type": "stream",
     "text": [
      "(14726, 20, 15)\n"
     ]
    }
   ],
   "source": [
    "pep_oh_encoded_train = pep_oh_encoded[:int(round(count_dir*0.8, 0))]\n",
    "print(pep_oh_encoded_train.shape)\n",
    "pep_oh_encoded_test = pep_oh_encoded[int(round(count_dir*0.8, 0)):]"
   ]
  },
  {
   "cell_type": "markdown",
   "id": "ee766271-f15b-4927-b97f-60c55b6914aa",
   "metadata": {},
   "source": [
    "### Loading datasets"
   ]
  },
  {
   "cell_type": "code",
   "execution_count": 10,
   "id": "3fc12796-b917-467e-a0ef-5cba2f879bf6",
   "metadata": {},
   "outputs": [],
   "source": [
    "oh_dataset = torch.utils.data.TensorDataset(torch.tensor(pep_oh_encoded), torch.tensor(np.ones(count_dir)))\n",
    "oh_encoded_dl = torch.utils.data.DataLoader(oh_dataset, batch_size=batch_size, shuffle=True)\n",
    "oh_dataset_train = torch.utils.data.TensorDataset(torch.tensor(pep_oh_encoded_train), torch.tensor(np.ones(int(round(count_dir*0.8, 0)))))\n",
    "oh_encoded_dl_train = torch.utils.data.DataLoader(oh_dataset_train, batch_size=batch_size, shuffle=True)\n",
    "\n",
    "oh_dataset_test = torch.utils.data.TensorDataset(torch.tensor(pep_oh_encoded_test), torch.tensor(np.ones(count_dir - int(round(count_dir*0.8, 0)))))\n",
    "oh_encoded_dl_test = torch.utils.data.DataLoader(oh_dataset_test, batch_size=batch_size, shuffle=True)\n",
    "\n",
    "af_dataset = torch.utils.data.TensorDataset(torch.tensor(pep_af_encoded), torch.tensor(np.ones(count_dir)))\n",
    "af_encoded_dl = torch.utils.data.DataLoader(oh_dataset, batch_size=batch_size, shuffle=True)"
   ]
  },
  {
   "cell_type": "markdown",
   "id": "a047a313-06dd-4f9d-b748-d587bbf42fd2",
   "metadata": {},
   "source": [
    "### Autoencoders definition"
   ]
  },
  {
   "cell_type": "code",
   "execution_count": 11,
   "id": "6e12dd82-2c55-49fa-8855-fbeb01f2717c",
   "metadata": {},
   "outputs": [
    {
     "name": "stdout",
     "output_type": "stream",
     "text": [
      "Number of parameters: 6310\n"
     ]
    }
   ],
   "source": [
    "class Encoder(nn.Module):\n",
    "    def __init__(self):\n",
    "        super(Encoder, self).__init__()\n",
    "        self.fc = nn.Linear(in_features=20*len_seq, out_features=latent_dims)\n",
    "            \n",
    "    def forward(self, x):\n",
    "        x = self.fc(x)\n",
    "        #x = nn.ReLU(x)\n",
    "        return x\n",
    "\n",
    "class Decoder(nn.Module):\n",
    "    def __init__(self):\n",
    "        super(Decoder, self).__init__()\n",
    "        self.fc = nn.Linear(in_features=latent_dims, out_features=20*len_seq)\n",
    "            \n",
    "    def forward(self, x):\n",
    "        x = self.fc(x)\n",
    "        x = F.sigmoid(x)\n",
    "        return x\n",
    "    \n",
    "class Autoencoder(nn.Module):\n",
    "    def __init__(self):\n",
    "        super(Autoencoder, self).__init__()\n",
    "        self.encoder = Encoder()\n",
    "        self.decoder = Decoder()\n",
    "    \n",
    "    def forward(self, x):\n",
    "        latent = self.encoder(x)\n",
    "        x_recon = self.decoder(latent)\n",
    "        return x_recon\n",
    "    \n",
    "autoencoder = Autoencoder()\n",
    "\n",
    "if use_gpu and torch.cuda.is_available():\n",
    "    device = torch.device(\"cuda:0\")\n",
    "elif use_gpu and torch.backends.mps.is_available():\n",
    "    device = torch.device(\"mps\")\n",
    "else:\n",
    "    device = torch.device(\"cpu\")\n",
    "\n",
    "autoencoder = autoencoder.to(device)\n",
    "\n",
    "num_params = sum(p.numel() for p in autoencoder.parameters() if p.requires_grad)\n",
    "print('Number of parameters: %d' % num_params)\n",
    "\n",
    "loss_function = nn.MSELoss()\n",
    "\n",
    "optimizer = torch.optim.Adam(autoencoder.parameters(), lr = learning_rate, weight_decay = 1e-5)"
   ]
  },
  {
   "cell_type": "markdown",
   "id": "955a708e-5e3d-418d-93d9-6c410f86e456",
   "metadata": {},
   "source": [
    "### Train autoencoder"
   ]
  },
  {
   "cell_type": "code",
   "execution_count": 12,
   "id": "faaf3793-8ca7-4e9e-b2b3-f588d137a053",
   "metadata": {},
   "outputs": [
    {
     "name": "stdout",
     "output_type": "stream",
     "text": [
      "Training ...\n",
      "Epoch [1 / 50] average reconstruction error: 0.248414\n",
      "Epoch [2 / 50] average reconstruction error: 0.240150\n",
      "Epoch [3 / 50] average reconstruction error: 0.227625\n",
      "Epoch [4 / 50] average reconstruction error: 0.210657\n",
      "Epoch [5 / 50] average reconstruction error: 0.189878\n",
      "Epoch [6 / 50] average reconstruction error: 0.166667\n",
      "Epoch [7 / 50] average reconstruction error: 0.142852\n",
      "Epoch [8 / 50] average reconstruction error: 0.120245\n",
      "Epoch [9 / 50] average reconstruction error: 0.100219\n",
      "Epoch [10 / 50] average reconstruction error: 0.083544\n",
      "Epoch [11 / 50] average reconstruction error: 0.070377\n",
      "Epoch [12 / 50] average reconstruction error: 0.060415\n",
      "Epoch [13 / 50] average reconstruction error: 0.053119\n",
      "Epoch [14 / 50] average reconstruction error: 0.047877\n",
      "Epoch [15 / 50] average reconstruction error: 0.044138\n",
      "Epoch [16 / 50] average reconstruction error: 0.041466\n",
      "Epoch [17 / 50] average reconstruction error: 0.039541\n",
      "Epoch [18 / 50] average reconstruction error: 0.038134\n",
      "Epoch [19 / 50] average reconstruction error: 0.037090\n",
      "Epoch [20 / 50] average reconstruction error: 0.036301\n",
      "Epoch [21 / 50] average reconstruction error: 0.035691\n",
      "Epoch [22 / 50] average reconstruction error: 0.035211\n",
      "Epoch [23 / 50] average reconstruction error: 0.034825\n",
      "Epoch [24 / 50] average reconstruction error: 0.034507\n",
      "Epoch [25 / 50] average reconstruction error: 0.034241\n",
      "Epoch [26 / 50] average reconstruction error: 0.034013\n",
      "Epoch [27 / 50] average reconstruction error: 0.033816\n",
      "Epoch [28 / 50] average reconstruction error: 0.033643\n",
      "Epoch [29 / 50] average reconstruction error: 0.033488\n",
      "Epoch [30 / 50] average reconstruction error: 0.033347\n",
      "Epoch [31 / 50] average reconstruction error: 0.033218\n",
      "Epoch [32 / 50] average reconstruction error: 0.033097\n",
      "Epoch [33 / 50] average reconstruction error: 0.032984\n",
      "Epoch [34 / 50] average reconstruction error: 0.032875\n",
      "Epoch [35 / 50] average reconstruction error: 0.032771\n",
      "Epoch [36 / 50] average reconstruction error: 0.032669\n",
      "Epoch [37 / 50] average reconstruction error: 0.032569\n",
      "Epoch [38 / 50] average reconstruction error: 0.032470\n",
      "Epoch [39 / 50] average reconstruction error: 0.032372\n",
      "Epoch [40 / 50] average reconstruction error: 0.032273\n",
      "Epoch [41 / 50] average reconstruction error: 0.032174\n",
      "Epoch [42 / 50] average reconstruction error: 0.032073\n",
      "Epoch [43 / 50] average reconstruction error: 0.031972\n",
      "Epoch [44 / 50] average reconstruction error: 0.031870\n",
      "Epoch [45 / 50] average reconstruction error: 0.031767\n",
      "Epoch [46 / 50] average reconstruction error: 0.031662\n",
      "Epoch [47 / 50] average reconstruction error: 0.031557\n",
      "Epoch [48 / 50] average reconstruction error: 0.031451\n",
      "Epoch [49 / 50] average reconstruction error: 0.031344\n",
      "Epoch [50 / 50] average reconstruction error: 0.031237\n"
     ]
    }
   ],
   "source": [
    "# set to training mode\n",
    "autoencoder.train()\n",
    "\n",
    "train_loss_avg = []\n",
    "\n",
    "print('Training ...')\n",
    "for epoch in range(num_epochs):\n",
    "    train_loss_avg.append(0)\n",
    "    num_batches = 0\n",
    "    \n",
    "    for pep_batch, _ in oh_encoded_dl:\n",
    "        \n",
    "        pep_batch = pep_batch.to(device)\n",
    "\n",
    "        pep_batch = pep_batch.reshape(-1, oh_matr_size)\n",
    "        \n",
    "        # autoencoder reconstruction\n",
    "        pep_batch_recon = autoencoder(pep_batch)\n",
    "        \n",
    "        # reconstruction error\n",
    "        loss = loss_function(pep_batch_recon, pep_batch)\n",
    "        \n",
    "        # backpropagation\n",
    "        optimizer.zero_grad()\n",
    "        loss.backward()\n",
    "        \n",
    "        # one step of the optmizer (using the gradients from backpropagation)\n",
    "        optimizer.step()\n",
    "        \n",
    "        train_loss_avg[-1] += loss.item()\n",
    "        num_batches += 1\n",
    "        \n",
    "    train_loss_avg[-1] /= num_batches\n",
    "    print('Epoch [%d / %d] average reconstruction error: %f' % (epoch+1, num_epochs, train_loss_avg[-1]))"
   ]
  },
  {
   "cell_type": "code",
   "execution_count": 13,
   "id": "260db3a9-ec76-4261-854c-1145d2fb5e88",
   "metadata": {},
   "outputs": [
    {
     "data": {
      "image/png": "[encoded data removed]",
      "text/plain": [
       "<Figure size 640x480 with 1 Axes>"
      ]
     },
     "metadata": {},
     "output_type": "display_data"
    }
   ],
   "source": [
    "fig = plt.figure()\n",
    "plt.plot(train_loss_avg)\n",
    "plt.xlabel('Epochs')\n",
    "plt.ylabel('Reconstruction error')\n",
    "plt.show()"
   ]
  },
  {
   "cell_type": "code",
   "execution_count": 14,
   "id": "132e733b-b885-4c9a-ab0d-1e921e4b2331",
   "metadata": {},
   "outputs": [
    {
     "name": "stdout",
     "output_type": "stream",
     "text": [
      "average reconstruction error: 0.032006\n"
     ]
    }
   ],
   "source": [
    "# set to evaluation mode\n",
    "autoencoder.eval()\n",
    "\n",
    "test_loss_avg, num_batches = 0, 0\n",
    "for pep_batch, _ in oh_encoded_dl_test:\n",
    "    \n",
    "    with torch.no_grad():\n",
    "\n",
    "        pep_batch = pep_batch.to(device)\n",
    "\n",
    "        pep_batch = pep_batch.reshape(-1, oh_matr_size)\n",
    "\n",
    "        # autoencoder reconstruction\n",
    "        pep_batch_recon = autoencoder(pep_batch)\n",
    "\n",
    "        # reconstruction error\n",
    "        loss = loss_function(pep_batch_recon, pep_batch)\n",
    "\n",
    "        test_loss_avg += loss.item()\n",
    "        num_batches += 1\n",
    "    \n",
    "test_loss_avg /= num_batches\n",
    "print('average reconstruction error: %f' % (test_loss_avg))"
   ]
  }
 ],
 "metadata": {
  "kernelspec": {
   "display_name": "tcreppred_sil",
   "language": "python",
   "name": "tcreppred_sil"
  },
  "language_info": {
   "codemirror_mode": {
    "name": "ipython",
    "version": 3
   },
   "file_extension": ".py",
   "mimetype": "text/x-python",
   "name": "python",
   "nbconvert_exporter": "python",
   "pygments_lexer": "ipython3",
   "version": "3.12.8"
  }
 },
 "nbformat": 4,
 "nbformat_minor": 5
}
