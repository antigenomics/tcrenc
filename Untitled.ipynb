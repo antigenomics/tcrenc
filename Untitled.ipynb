{
 "cells": [
  {
   "cell_type": "code",
   "execution_count": 1,
   "id": "bc2e7bcf-de11-4b15-9f85-fa4e4b4c408d",
   "metadata": {},
   "outputs": [],
   "source": [
    "import numpy as np\n",
    "import pepcode"
   ]
  },
  {
   "cell_type": "code",
   "execution_count": 2,
   "id": "bb3966ee-37b8-4ad3-9cda-1771728bac04",
   "metadata": {},
   "outputs": [
    {
     "name": "stdout",
     "output_type": "stream",
     "text": [
      "From 87032 only 18408 with the lengh of 15\n"
     ]
    }
   ],
   "source": [
    "len_seq = 15\n",
    "with open(\"cdr3_from_VDJdb.txt\") as file:\n",
    "    count = 0\n",
    "    pep_dir = []\n",
    "    count_dir = 0\n",
    "    for pep in file:\n",
    "        pep = pep[:-1]\n",
    "        count += 1\n",
    "        if len(pep) == len_seq:\n",
    "            count_dir +=1\n",
    "            pep_dir.append(pep)\n",
    "    print(f'From {count} only {count_dir} with the lengh of {len_seq}')"
   ]
  },
  {
   "cell_type": "code",
   "execution_count": null,
   "id": "4fbbc618-e1cf-477b-a5ea-5acba734d121",
   "metadata": {},
   "outputs": [],
   "source": []
  },
  {
   "cell_type": "code",
   "execution_count": null,
   "id": "b287ba53-5be5-4426-b8da-8f357d9152f4",
   "metadata": {},
   "outputs": [],
   "source": [
    "pep_oh_encoded = np.zeros((count_dir, len(AA_LIST), len_seq), dtype = np.float32)\n",
    "for k, pep in enumerate(pep_dir):\n",
    "    for i in range(len(pep)):\n",
    "        for j in range(len(AA_LIST)):\n",
    "            if AA_LIST[j] == pep[i]:\n",
    "                pep_oh_encoded[k][j][i] = 1"
   ]
  },
  {
   "cell_type": "code",
   "execution_count": 3,
   "id": "04a2f66e-8971-4d96-b7b9-c1a6a81f8f48",
   "metadata": {},
   "outputs": [
    {
     "data": {
      "text/plain": [
       "315"
      ]
     },
     "execution_count": 3,
     "metadata": {},
     "output_type": "execute_result"
    }
   ],
   "source": [
    "21*15"
   ]
  },
  {
   "cell_type": "code",
   "execution_count": null,
   "id": "10f2a67d-df81-4002-9e19-2a127150afcc",
   "metadata": {},
   "outputs": [],
   "source": []
  }
 ],
 "metadata": {
  "kernelspec": {
   "display_name": "tcreppred_sil",
   "language": "python",
   "name": "tcreppred_sil"
  },
  "language_info": {
   "codemirror_mode": {
    "name": "ipython",
    "version": 3
   },
   "file_extension": ".py",
   "mimetype": "text/x-python",
   "name": "python",
   "nbconvert_exporter": "python",
   "pygments_lexer": "ipython3",
   "version": "3.12.8"
  }
 },
 "nbformat": 4,
 "nbformat_minor": 5
}
