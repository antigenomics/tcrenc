{
 "cells": [
  {
   "cell_type": "code",
   "execution_count": 1,
   "id": "8b001045-b325-42cc-8478-facb811a0430",
   "metadata": {},
   "outputs": [],
   "source": [
    "import pandas as pd\n",
    "import random"
   ]
  },
  {
   "cell_type": "markdown",
   "id": "3eb226f0-4a7e-4f70-888e-cd53c468e72c",
   "metadata": {},
   "source": [
    "Load database"
   ]
  },
  {
   "cell_type": "code",
   "execution_count": 2,
   "id": "7356a4e9-aa23-434a-98c4-01f7dbbd560c",
   "metadata": {},
   "outputs": [],
   "source": [
    "data = pd.read_csv('./vdjdb-2024-11-27-fixed/vdjdb.slim.txt', sep = '\\t')"
   ]
  },
  {
   "cell_type": "code",
   "execution_count": 3,
   "id": "2c964b15-0d2d-4138-8a7f-fb08381cef3b",
   "metadata": {},
   "outputs": [],
   "source": [
    "data = data[(data.gene == 'TRB') & (data.species == 'HomoSapiens')]"
   ]
  },
  {
   "cell_type": "code",
   "execution_count": 4,
   "id": "5aea4705-9030-4932-8d41-f1d324e366a3",
   "metadata": {},
   "outputs": [],
   "source": [
    "cdr3 = data.cdr3"
   ]
  },
  {
   "cell_type": "markdown",
   "id": "219573fa-5e10-4d3d-b2b8-4d92f697b8ba",
   "metadata": {},
   "source": [
    "Specify length of target cdr3:"
   ]
  },
  {
   "cell_type": "code",
   "execution_count": 5,
   "id": "1b057d8c-868f-4741-84a1-0553c666164f",
   "metadata": {},
   "outputs": [],
   "source": [
    "len_seq = 15"
   ]
  },
  {
   "cell_type": "code",
   "execution_count": 6,
   "id": "ef110bc4-23fd-4227-ba97-64fa7b4fa584",
   "metadata": {},
   "outputs": [
    {
     "name": "stdout",
     "output_type": "stream",
     "text": [
      "From 48064 only 11162 with the lengh of 15\n"
     ]
    }
   ],
   "source": [
    "count_dir = 0\n",
    "pep_dir = []\n",
    "for pep in cdr3:\n",
    "    if (len(pep) == len_seq) & (pep[0] == 'C') & (pep[-1] == 'F' or pep[-1] == 'W' ):\n",
    "        count_dir += 1\n",
    "        pep_dir.append(pep)\n",
    "print(f'From {len(cdr3)} only {count_dir} with the lengh of {len_seq}')"
   ]
  },
  {
   "cell_type": "code",
   "execution_count": 7,
   "id": "0b471e9a-18ef-49e5-9c71-ba946f29cc1a",
   "metadata": {},
   "outputs": [],
   "source": [
    "pep_dir_rand = random.sample(pep_dir, k = count_dir)"
   ]
  },
  {
   "cell_type": "code",
   "execution_count": 8,
   "id": "64797d6c-3233-4e5b-96d1-4061da0e29e3",
   "metadata": {},
   "outputs": [],
   "source": [
    "train_size = round(count_dir * 0.7)\n",
    "eval_size = round((count_dir - train_size)/2)\n",
    "test_size = round(count_dir - train_size - eval_size)"
   ]
  },
  {
   "cell_type": "code",
   "execution_count": 9,
   "id": "49077eb7-61b6-4a9c-b3ba-58f02fa86360",
   "metadata": {},
   "outputs": [],
   "source": [
    "pep_train = pep_dir[:train_size]\n",
    "pep_eval = pep_dir[:eval_size]\n",
    "pep_test = pep_dir[:test_size]"
   ]
  },
  {
   "cell_type": "code",
   "execution_count": 10,
   "id": "45d3df40-7fe3-4c47-805c-88c2a0afe7eb",
   "metadata": {},
   "outputs": [],
   "source": [
    "with open('./train_cdr3.txt', 'w') as f:\n",
    "    for pep_1 in pep_train:\n",
    "        f.write(f\"{pep_1}\\n\")"
   ]
  },
  {
   "cell_type": "code",
   "execution_count": 11,
   "id": "2118424f-6679-46d6-b2dc-35357dd7ad9a",
   "metadata": {},
   "outputs": [],
   "source": [
    "with open('./eval_cdr3.txt', 'w') as f:\n",
    "    for pep_2 in pep_eval:\n",
    "        f.write(f\"{pep_2}\\n\")"
   ]
  },
  {
   "cell_type": "code",
   "execution_count": 12,
   "id": "2b4e6e5e-d746-4f79-a8ec-bc1e32ee96a1",
   "metadata": {},
   "outputs": [],
   "source": [
    "with open('./test_cdr3.txt', 'w') as f:\n",
    "    for pep_3 in pep_test:\n",
    "        f.write(f\"{pep_3}\\n\")"
   ]
  }
 ],
 "metadata": {
  "kernelspec": {
   "display_name": "tcreppred_sil",
   "language": "python",
   "name": "tcreppred_sil"
  },
  "language_info": {
   "codemirror_mode": {
    "name": "ipython",
    "version": 3
   },
   "file_extension": ".py",
   "mimetype": "text/x-python",
   "name": "python",
   "nbconvert_exporter": "python",
   "pygments_lexer": "ipython3",
   "version": "3.12.8"
  }
 },
 "nbformat": 4,
 "nbformat_minor": 5
}
