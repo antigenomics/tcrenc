{
 "cells": [
  {
   "cell_type": "markdown",
   "id": "56f6513f-f0b5-4af1-85d2-e618d41d0661",
   "metadata": {},
   "source": [
    "# Peptides encoding"
   ]
  },
  {
   "cell_type": "code",
   "execution_count": 1,
   "id": "281756e5-c1ac-4a8b-98f5-b64681c9a483",
   "metadata": {},
   "outputs": [],
   "source": [
    "import peptides\n",
    "import numpy as np\n",
    "import pandas as pd\n",
    "import matplotlib.pyplot as plt\n",
    "# libs for ml\n",
    "import os\n",
    "\n",
    "import torch\n",
    "import torch.nn as nn\n",
    "import torch.nn.functional as F"
   ]
  },
  {
   "cell_type": "markdown",
   "id": "8a5995f4-87db-41e2-84ec-717a95b1cac8",
   "metadata": {},
   "source": [
    "Fetch all cdr3 sequences from VDJdb ver(vdjdb-2024-11-27-fixed) with `cut -f 2 vdjdb-2024-11-27-fixed/vdjdb.slim.txt | grep -v \"cdr3\" >cdr3_from_VDJdb.txt`"
   ]
  },
  {
   "cell_type": "markdown",
   "id": "2fb42fbe-75a5-45fd-a856-0a7d42584b7e",
   "metadata": {},
   "source": [
    "## Preparing data"
   ]
  },
  {
   "cell_type": "markdown",
   "id": "9af9a125-1360-441e-9cfe-43b1565c1096",
   "metadata": {},
   "source": [
    "Set length of sequence: "
   ]
  },
  {
   "cell_type": "code",
   "execution_count": 2,
   "id": "52f63fe3-b643-4988-a22c-a29a58631ecf",
   "metadata": {},
   "outputs": [],
   "source": [
    "len_seq = 15"
   ]
  },
  {
   "cell_type": "code",
   "execution_count": 3,
   "id": "b3726799-d5ca-4816-83f6-43bfdc2be1a1",
   "metadata": {},
   "outputs": [
    {
     "name": "stdout",
     "output_type": "stream",
     "text": [
      "From 87032 only 18408 with the lengh of 15\n"
     ]
    }
   ],
   "source": [
    "with open(\"cdr3_from_VDJdb.txt\") as file:\n",
    "    count = 0\n",
    "    pep_dir = []\n",
    "    count_dir = 0\n",
    "    for pep in file:\n",
    "        pep = pep[:-1]\n",
    "        count += 1\n",
    "        if len(pep) == len_seq:\n",
    "            count_dir +=1\n",
    "            pep_dir.append(pep)\n",
    "    print(f'From {count} only {count_dir} with the lengh of {len_seq}')"
   ]
  },
  {
   "cell_type": "code",
   "execution_count": 4,
   "id": "3030c196-2724-41ad-b167-b5d8e18480db",
   "metadata": {},
   "outputs": [],
   "source": [
    " AA_LIST = ['A', 'C', 'D', 'E', 'F', 'G', 'H', 'I', 'K', 'L', 'M', 'N', 'P', 'Q', 'R', 'S', 'T', 'V', 'W', 'Y']"
   ]
  },
  {
   "cell_type": "code",
   "execution_count": 5,
   "id": "76305679-89e4-4ce3-a19a-1690bccbf307",
   "metadata": {},
   "outputs": [],
   "source": [
    "pep_oh_encoded = np.zeros((count_dir, len(AA_LIST), len_seq), dtype = np.float32)\n",
    "pep_af_encoded = np.zeros((count_dir, 5, len_seq), dtype = np.float32)\n",
    "for k, pep in enumerate(pep_dir):\n",
    "    for i in range(len(pep)):\n",
    "        for j in range(len(AA_LIST)):\n",
    "            if AA_LIST[j] == pep[i]:\n",
    "                pep_oh_encoded[k][j][i] = 1\n",
    "    for i in range(len(pep)):\n",
    "        pep1 = peptides.Peptide(pep[i])\n",
    "        for j, kf in enumerate(pep1.atchley_factors()):\n",
    "            pep_af_encoded[k][j][i] = kf"
   ]
  },
  {
   "cell_type": "code",
   "execution_count": 6,
   "id": "3d0d44fa-4d41-4ebc-8716-ba0eb92b6d2b",
   "metadata": {},
   "outputs": [
    {
     "name": "stdout",
     "output_type": "stream",
     "text": [
      "First peptide (one-hot encoded):\n",
      " [[0. 1. 0. 0. 0. 0. 0. 0. 0. 0. 0. 0. 0. 0. 0.]\n",
      " [1. 0. 0. 0. 0. 0. 0. 0. 0. 0. 0. 0. 0. 0. 0.]\n",
      " [0. 0. 0. 0. 0. 0. 0. 0. 0. 0. 0. 0. 0. 0. 0.]\n",
      " [0. 0. 0. 0. 0. 0. 0. 0. 0. 0. 1. 0. 0. 0. 0.]\n",
      " [0. 0. 0. 0. 0. 0. 0. 1. 0. 0. 0. 0. 0. 0. 1.]\n",
      " [0. 0. 0. 0. 0. 0. 0. 0. 1. 0. 0. 0. 0. 0. 0.]\n",
      " [0. 0. 0. 0. 0. 0. 0. 0. 0. 0. 0. 0. 0. 0. 0.]\n",
      " [0. 0. 0. 0. 0. 0. 0. 0. 0. 0. 0. 0. 0. 0. 0.]\n",
      " [0. 0. 0. 1. 0. 0. 0. 0. 0. 0. 0. 1. 0. 0. 0.]\n",
      " [0. 0. 0. 0. 0. 0. 0. 0. 0. 0. 0. 0. 1. 0. 0.]\n",
      " [0. 0. 0. 0. 0. 0. 0. 0. 0. 0. 0. 0. 0. 0. 0.]\n",
      " [0. 0. 0. 0. 0. 0. 1. 0. 0. 1. 0. 0. 0. 0. 0.]\n",
      " [0. 0. 0. 0. 0. 0. 0. 0. 0. 0. 0. 0. 0. 0. 0.]\n",
      " [0. 0. 0. 0. 0. 0. 0. 0. 0. 0. 0. 0. 0. 0. 0.]\n",
      " [0. 0. 0. 0. 1. 0. 0. 0. 0. 0. 0. 0. 0. 0. 0.]\n",
      " [0. 0. 0. 0. 0. 1. 0. 0. 0. 0. 0. 0. 0. 0. 0.]\n",
      " [0. 0. 0. 0. 0. 0. 0. 0. 0. 0. 0. 0. 0. 1. 0.]\n",
      " [0. 0. 1. 0. 0. 0. 0. 0. 0. 0. 0. 0. 0. 0. 0.]\n",
      " [0. 0. 0. 0. 0. 0. 0. 0. 0. 0. 0. 0. 0. 0. 0.]\n",
      " [0. 0. 0. 0. 0. 0. 0. 0. 0. 0. 0. 0. 0. 0. 0.]]\n",
      "First peptide (Atchley factors encoded):\n",
      " [[-1.34 -0.59 -0.59 -0.59 -0.59 -0.03  0.19 -0.38  0.95 -0.03 -0.38  1.83\n",
      "  -1.02 -1.24 -1.01]\n",
      " [ 0.47 -1.3  -1.3  -1.3  -1.3   0.33  2.08  1.65  0.83  0.33  1.65 -0.56\n",
      "  -0.99 -0.55 -0.59]\n",
      " [-0.86 -0.73 -0.73 -0.73 -0.73  2.21 -1.63  1.33  1.3   2.21  1.33  0.53\n",
      "  -1.5   2.13  1.89]\n",
      " [-1.02  1.57  1.57  1.57  1.57  0.91  0.42  1.04 -0.17  0.91  1.04 -0.28\n",
      "   1.27  0.39 -0.4 ]\n",
      " [-0.26 -0.15 -0.15 -0.15 -0.15  1.31 -1.39  2.06  0.93  1.31  2.06  1.65\n",
      "  -0.91  0.82  0.41]]\n"
     ]
    }
   ],
   "source": [
    "print(\"First peptide (one-hot encoded):\\n\", pep_oh_encoded[3682])\n",
    "print(\"First peptide (Atchley factors encoded):\\n\", np.round(pep_af_encoded[0], 2))\n",
    "oh_matr_size = pep_oh_encoded[0].size\n",
    "af_matr_size = pep_af_encoded[0].size"
   ]
  },
  {
   "cell_type": "markdown",
   "id": "1f894347-bb2e-43da-811b-ef6e9abc6791",
   "metadata": {},
   "source": [
    "### Set Variables"
   ]
  },
  {
   "cell_type": "code",
   "execution_count": 7,
   "id": "3461bbf5-6601-471e-929d-0738021e6516",
   "metadata": {},
   "outputs": [],
   "source": [
    "latent_dims = 50 # надо посмотреть, что будет с длинной пептида и больше и меньше\n",
    "num_epochs = 50 \n",
    "batch_size = int(count_dir/8) # Тут надо быть аккуратней, чтобы делилось на цело\n",
    "capacity = 64\n",
    "learning_rate = 1e-3 \n",
    "use_gpu = True"
   ]
  },
  {
   "cell_type": "markdown",
   "id": "44f782df-b1d1-4e8f-bacd-a3cd44311327",
   "metadata": {},
   "source": [
    "### Split datasets"
   ]
  },
  {
   "cell_type": "code",
   "execution_count": 8,
   "id": "d1e75944-c6d5-4ed3-866b-9350ee42b5e8",
   "metadata": {},
   "outputs": [],
   "source": [
    "#One-hot encoded\n",
    "np.random.shuffle(pep_oh_encoded)\n",
    "pep_oh_encoded_train = pep_oh_encoded[:int(round(count_dir*0.8, 0))]\n",
    "pep_oh_encoded_test = pep_oh_encoded[int(round(count_dir*0.8, 0)):]\n",
    "\n",
    "#Atchley factors encoded\n",
    "np.random.shuffle(pep_af_encoded)\n",
    "pep_af_encoded_train = pep_af_encoded[:int(round(count_dir*0.8, 0))]\n",
    "pep_af_encoded_test = pep_af_encoded[int(round(count_dir*0.8, 0)):]"
   ]
  },
  {
   "cell_type": "markdown",
   "id": "ee766271-f15b-4927-b97f-60c55b6914aa",
   "metadata": {},
   "source": [
    "### Loading datasets"
   ]
  },
  {
   "cell_type": "code",
   "execution_count": 9,
   "id": "3fc12796-b917-467e-a0ef-5cba2f879bf6",
   "metadata": {},
   "outputs": [],
   "source": [
    "#One-hot encoded\n",
    "oh_dataset = torch.utils.data.TensorDataset(torch.tensor(pep_oh_encoded), torch.tensor(np.ones(count_dir)))\n",
    "oh_encoded_dl = torch.utils.data.DataLoader(oh_dataset, batch_size=batch_size, shuffle=True)\n",
    "\n",
    "oh_dataset_train = torch.utils.data.TensorDataset(torch.tensor(pep_oh_encoded_train), torch.tensor(np.ones(int(round(count_dir*0.8, 0)))))\n",
    "oh_encoded_dl_train = torch.utils.data.DataLoader(oh_dataset_train, batch_size=batch_size, shuffle=True)\n",
    "\n",
    "oh_dataset_test = torch.utils.data.TensorDataset(torch.tensor(pep_oh_encoded_test), torch.tensor(np.ones(count_dir - int(round(count_dir*0.8, 0)))))\n",
    "oh_encoded_dl_test = torch.utils.data.DataLoader(oh_dataset_test, batch_size=batch_size, shuffle=True)\n",
    "\n",
    "#Atchley factors encoded\n",
    "af_dataset = torch.utils.data.TensorDataset(torch.tensor(pep_af_encoded), torch.tensor(np.ones(count_dir)))\n",
    "af_encoded_dl = torch.utils.data.DataLoader(af_dataset, batch_size=batch_size, shuffle=True)\n",
    "\n",
    "af_dataset_train = torch.utils.data.TensorDataset(torch.tensor(pep_af_encoded_train), torch.tensor(np.ones(int(round(count_dir*0.8, 0)))))\n",
    "af_encoded_dl_train = torch.utils.data.DataLoader(af_dataset_train, batch_size=batch_size, shuffle=True)\n",
    "\n",
    "af_dataset_test = torch.utils.data.TensorDataset(torch.tensor(pep_af_encoded_test), torch.tensor(np.ones(count_dir - int(round(count_dir*0.8, 0)))))\n",
    "af_encoded_dl_test = torch.utils.data.DataLoader(af_dataset_test, batch_size=batch_size, shuffle=True)"
   ]
  },
  {
   "cell_type": "markdown",
   "id": "ada49812-80c8-48ec-ba24-af53be3a9a77",
   "metadata": {},
   "source": [
    "## Autoencoder_1SM definition (1 layer, Sigmoid, MSE loss) One-hot"
   ]
  },
  {
   "cell_type": "code",
   "execution_count": 10,
   "id": "6e12dd82-2c55-49fa-8855-fbeb01f2717c",
   "metadata": {},
   "outputs": [
    {
     "name": "stdout",
     "output_type": "stream",
     "text": [
      "Number of parameters for One-hot encoding: 30350\n"
     ]
    }
   ],
   "source": [
    "class Encoder(nn.Module):\n",
    "    def __init__(self):\n",
    "        super(Encoder, self).__init__()\n",
    "        self.fc = nn.Linear(in_features=20*len_seq, out_features=latent_dims)\n",
    "            \n",
    "    def forward(self, x):\n",
    "        x = self.fc(x)\n",
    "        #x = nn.ReLU(x)\n",
    "        return x\n",
    "\n",
    "class Decoder(nn.Module):\n",
    "    def __init__(self):\n",
    "        super(Decoder, self).__init__()\n",
    "        self.fc = nn.Linear(in_features=latent_dims, out_features=20*len_seq)\n",
    "            \n",
    "    def forward(self, x):\n",
    "        x = self.fc(x)\n",
    "        x = F.sigmoid(x)\n",
    "        return x\n",
    "    \n",
    "class Autoencoder(nn.Module):\n",
    "    def __init__(self):\n",
    "        super(Autoencoder, self).__init__()\n",
    "        self.encoder = Encoder()\n",
    "        self.decoder = Decoder()\n",
    "    \n",
    "    def forward(self, x):\n",
    "        latent = self.encoder(x)\n",
    "        x_recon = self.decoder(latent)\n",
    "        return x_recon\n",
    "    \n",
    "autoencoder_1sm_oh = Autoencoder() #One-hot encoding\n",
    "\n",
    "if use_gpu and torch.cuda.is_available():\n",
    "    device = torch.device(\"cuda:0\")\n",
    "elif use_gpu and torch.backends.mps.is_available():\n",
    "    device = torch.device(\"mps\")\n",
    "else:\n",
    "    device = torch.device(\"cpu\")\n",
    "\n",
    "autoencoder_1sm_oh = autoencoder_1sm_oh.to(device)\n",
    "\n",
    "num_params = sum(p.numel() for p in autoencoder_1sm_oh.parameters() if p.requires_grad)\n",
    "print('Number of parameters for One-hot encoding: %d' % num_params)\n",
    "\n",
    "loss_function = nn.MSELoss()"
   ]
  },
  {
   "cell_type": "markdown",
   "id": "955a708e-5e3d-418d-93d9-6c410f86e456",
   "metadata": {},
   "source": [
    "### Train autoencoder (One-hot)"
   ]
  },
  {
   "cell_type": "code",
   "execution_count": 11,
   "id": "faaf3793-8ca7-4e9e-b2b3-f588d137a053",
   "metadata": {},
   "outputs": [
    {
     "name": "stdout",
     "output_type": "stream",
     "text": [
      "Training ...\n",
      "Epoch [1 / 50] average reconstruction error: 0.245348\n",
      "Epoch [2 / 50] average reconstruction error: 0.227798\n",
      "Epoch [3 / 50] average reconstruction error: 0.196605\n",
      "Epoch [4 / 50] average reconstruction error: 0.153154\n",
      "Epoch [5 / 50] average reconstruction error: 0.106984\n",
      "Epoch [6 / 50] average reconstruction error: 0.070795\n",
      "Epoch [7 / 50] average reconstruction error: 0.049856\n",
      "Epoch [8 / 50] average reconstruction error: 0.040299\n",
      "Epoch [9 / 50] average reconstruction error: 0.036409\n",
      "Epoch [10 / 50] average reconstruction error: 0.034700\n",
      "Epoch [11 / 50] average reconstruction error: 0.033868\n",
      "Epoch [12 / 50] average reconstruction error: 0.033377\n",
      "Epoch [13 / 50] average reconstruction error: 0.033059\n",
      "Epoch [14 / 50] average reconstruction error: 0.032801\n",
      "Epoch [15 / 50] average reconstruction error: 0.032582\n",
      "Epoch [16 / 50] average reconstruction error: 0.032411\n",
      "Epoch [17 / 50] average reconstruction error: 0.032209\n",
      "Epoch [18 / 50] average reconstruction error: 0.032051\n",
      "Epoch [19 / 50] average reconstruction error: 0.031849\n",
      "Epoch [20 / 50] average reconstruction error: 0.031700\n",
      "Epoch [21 / 50] average reconstruction error: 0.031506\n",
      "Epoch [22 / 50] average reconstruction error: 0.031307\n",
      "Epoch [23 / 50] average reconstruction error: 0.031116\n",
      "Epoch [24 / 50] average reconstruction error: 0.030919\n",
      "Epoch [25 / 50] average reconstruction error: 0.030714\n",
      "Epoch [26 / 50] average reconstruction error: 0.030520\n",
      "Epoch [27 / 50] average reconstruction error: 0.030323\n",
      "Epoch [28 / 50] average reconstruction error: 0.030102\n",
      "Epoch [29 / 50] average reconstruction error: 0.029917\n",
      "Epoch [30 / 50] average reconstruction error: 0.029728\n",
      "Epoch [31 / 50] average reconstruction error: 0.029551\n",
      "Epoch [32 / 50] average reconstruction error: 0.029400\n",
      "Epoch [33 / 50] average reconstruction error: 0.029210\n",
      "Epoch [34 / 50] average reconstruction error: 0.029071\n",
      "Epoch [35 / 50] average reconstruction error: 0.028892\n",
      "Epoch [36 / 50] average reconstruction error: 0.028759\n",
      "Epoch [37 / 50] average reconstruction error: 0.028610\n",
      "Epoch [38 / 50] average reconstruction error: 0.028433\n",
      "Epoch [39 / 50] average reconstruction error: 0.028299\n",
      "Epoch [40 / 50] average reconstruction error: 0.028129\n",
      "Epoch [41 / 50] average reconstruction error: 0.027987\n",
      "Epoch [42 / 50] average reconstruction error: 0.027834\n",
      "Epoch [43 / 50] average reconstruction error: 0.027675\n",
      "Epoch [44 / 50] average reconstruction error: 0.027540\n",
      "Epoch [45 / 50] average reconstruction error: 0.027371\n",
      "Epoch [46 / 50] average reconstruction error: 0.027200\n",
      "Epoch [47 / 50] average reconstruction error: 0.027046\n",
      "Epoch [48 / 50] average reconstruction error: 0.026882\n",
      "Epoch [49 / 50] average reconstruction error: 0.026702\n",
      "Epoch [50 / 50] average reconstruction error: 0.026556\n"
     ]
    }
   ],
   "source": [
    "optimizer = torch.optim.Adam(autoencoder_1sm_oh.parameters(), lr = learning_rate, weight_decay = 1e-5)\n",
    "# set to training mode\n",
    "autoencoder_1sm_oh.train()\n",
    "\n",
    "train_loss_avg = []\n",
    "\n",
    "print('Training ...')\n",
    "for epoch in range(num_epochs):\n",
    "    train_loss_avg.append(0)\n",
    "    num_batches = 0\n",
    "    \n",
    "    for pep_batch, _ in oh_encoded_dl_train:\n",
    "        \n",
    "        pep_batch = pep_batch.to(device)\n",
    "\n",
    "        pep_batch = pep_batch.reshape(-1, oh_matr_size)\n",
    "        \n",
    "        # autoencoder reconstruction\n",
    "        pep_batch_recon = autoencoder_1sm_oh(pep_batch)\n",
    "        \n",
    "        # reconstruction error\n",
    "        loss = loss_function(pep_batch_recon, pep_batch)\n",
    "        \n",
    "        # backpropagation\n",
    "        optimizer.zero_grad()\n",
    "        loss.backward()\n",
    "        \n",
    "        # one step of the optmizer (using the gradients from backpropagation)\n",
    "        optimizer.step()\n",
    "        \n",
    "        train_loss_avg[-1] += loss.item()\n",
    "        num_batches += 1\n",
    "        \n",
    "    train_loss_avg[-1] /= num_batches\n",
    "    print('Epoch [%d / %d] average reconstruction error: %f' % (epoch+1, num_epochs, train_loss_avg[-1]))"
   ]
  },
  {
   "cell_type": "code",
   "execution_count": 12,
   "id": "260db3a9-ec76-4261-854c-1145d2fb5e88",
   "metadata": {},
   "outputs": [
    {
     "data": {
      "image/png": "[encoded data removed]",
      "text/plain": [
       "<Figure size 640x480 with 1 Axes>"
      ]
     },
     "metadata": {},
     "output_type": "display_data"
    }
   ],
   "source": [
    "fig = plt.figure()\n",
    "plt.plot(train_loss_avg)\n",
    "plt.xlabel('Epochs')\n",
    "plt.ylabel('Reconstruction error')\n",
    "plt.title(\"Reconstruction error for Autoencoder_1SM (1 layer, sigmoid, MSE loss) One-hot\")\n",
    "plt.show()"
   ]
  },
  {
   "cell_type": "markdown",
   "id": "a6533bd1-e07e-49a3-a1c9-fb2ff21c2cc5",
   "metadata": {},
   "source": [
    "### Evaluation One-hot"
   ]
  },
  {
   "cell_type": "code",
   "execution_count": 13,
   "id": "132e733b-b885-4c9a-ab0d-1e921e4b2331",
   "metadata": {},
   "outputs": [
    {
     "name": "stdout",
     "output_type": "stream",
     "text": [
      "Example of reconstruction:\n",
      "Before autoencoder:\n",
      " tensor([[0., 1., 0., 0., 0., 0., 0., 0., 0., 0., 0., 0., 1., 0., 0.],\n",
      "        [1., 0., 0., 0., 0., 0., 0., 0., 0., 0., 0., 0., 0., 0., 0.],\n",
      "        [0., 0., 0., 0., 0., 0., 1., 0., 0., 0., 0., 0., 0., 0., 0.],\n",
      "        [0., 0., 0., 0., 0., 1., 0., 0., 0., 0., 0., 1., 0., 0., 0.],\n",
      "        [0., 0., 0., 0., 0., 0., 0., 0., 0., 0., 0., 0., 0., 1., 1.],\n",
      "        [0., 0., 0., 0., 0., 0., 0., 0., 1., 0., 0., 0., 0., 0., 0.],\n",
      "        [0., 0., 0., 0., 0., 0., 0., 0., 0., 0., 0., 0., 0., 0., 0.],\n",
      "        [0., 0., 0., 0., 0., 0., 0., 0., 0., 0., 0., 0., 0., 0., 0.],\n",
      "        [0., 0., 0., 0., 0., 0., 0., 0., 0., 0., 0., 0., 0., 0., 0.],\n",
      "        [0., 0., 0., 0., 0., 0., 0., 0., 0., 1., 0., 0., 0., 0., 0.],\n",
      "        [0., 0., 0., 0., 0., 0., 0., 0., 0., 0., 0., 0., 0., 0., 0.],\n",
      "        [0., 0., 0., 0., 0., 0., 0., 0., 0., 0., 0., 0., 0., 0., 0.],\n",
      "        [0., 0., 0., 0., 0., 0., 0., 0., 0., 0., 0., 0., 0., 0., 0.],\n",
      "        [0., 0., 0., 0., 1., 0., 0., 0., 0., 0., 0., 0., 0., 0., 0.],\n",
      "        [0., 0., 0., 0., 0., 0., 0., 1., 0., 0., 0., 0., 0., 0., 0.],\n",
      "        [0., 0., 1., 1., 0., 0., 0., 0., 0., 0., 0., 0., 0., 0., 0.],\n",
      "        [0., 0., 0., 0., 0., 0., 0., 0., 0., 0., 1., 0., 0., 0., 0.],\n",
      "        [0., 0., 0., 0., 0., 0., 0., 0., 0., 0., 0., 0., 0., 0., 0.],\n",
      "        [0., 0., 0., 0., 0., 0., 0., 0., 0., 0., 0., 0., 0., 0., 0.],\n",
      "        [0., 0., 0., 0., 0., 0., 0., 0., 0., 0., 0., 0., 0., 0., 0.]],\n",
      "       device='mps:0')\n",
      "Reconstruction error: 0.02652513049542904\n",
      "After autoencoder:\n",
      " tensor([[0., 1., 0., 0., 0., 0., 0., 0., 0., 0., 0., 0., 0., 0., 0.],\n",
      "        [1., 0., 0., 0., 0., 0., 0., 0., 0., 0., 0., 0., 0., 0., 0.],\n",
      "        [0., 0., 0., 0., 0., 0., 0., 0., 0., 0., 0., 0., 0., 0., 0.],\n",
      "        [0., 0., 0., 0., 0., 0., 0., 0., 0., 0., 0., 1., 0., 0., 0.],\n",
      "        [0., 0., 0., 0., 0., 0., 0., 0., 0., 0., 0., 0., 0., 1., 1.],\n",
      "        [0., 0., 0., 0., 0., 0., 0., 0., 0., 0., 0., 0., 0., 0., 0.],\n",
      "        [0., 0., 0., 0., 0., 0., 0., 0., 0., 0., 0., 0., 0., 0., 0.],\n",
      "        [0., 0., 0., 0., 0., 0., 0., 0., 0., 0., 0., 0., 0., 0., 0.],\n",
      "        [0., 0., 0., 0., 0., 0., 0., 0., 0., 0., 0., 0., 0., 0., 0.],\n",
      "        [0., 0., 0., 0., 0., 0., 0., 0., 0., 0., 0., 0., 0., 0., 0.],\n",
      "        [0., 0., 0., 0., 0., 0., 0., 0., 0., 0., 0., 0., 0., 0., 0.],\n",
      "        [0., 0., 0., 0., 0., 0., 0., 0., 0., 0., 0., 0., 0., 0., 0.],\n",
      "        [0., 0., 0., 0., 0., 0., 0., 0., 0., 0., 0., 0., 0., 0., 0.],\n",
      "        [0., 0., 0., 0., 0., 0., 0., 0., 0., 0., 0., 0., 1., 0., 0.],\n",
      "        [0., 0., 0., 0., 0., 0., 0., 0., 0., 0., 0., 0., 0., 0., 0.],\n",
      "        [0., 0., 1., 1., 0., 0., 0., 0., 0., 0., 0., 0., 0., 0., 0.],\n",
      "        [0., 0., 0., 0., 0., 0., 0., 0., 0., 0., 0., 0., 0., 0., 0.],\n",
      "        [0., 0., 0., 0., 0., 0., 0., 0., 0., 0., 0., 0., 0., 0., 0.],\n",
      "        [0., 0., 0., 0., 0., 0., 0., 0., 0., 0., 0., 0., 0., 0., 0.],\n",
      "        [0., 0., 0., 0., 0., 0., 0., 0., 0., 0., 0., 0., 0., 0., 0.]],\n",
      "       device='mps:0')\n",
      "average reconstruction error: 0.026679\n"
     ]
    }
   ],
   "source": [
    "# set to evaluation mode\n",
    "autoencoder_1sm_oh.eval()\n",
    "counter = 0\n",
    "\n",
    "test_loss_avg, num_batches = 0, 0\n",
    "for pep_batch, _ in oh_encoded_dl_test:\n",
    "    \n",
    "    with torch.no_grad():\n",
    "\n",
    "        pep_batch = pep_batch.to(device)\n",
    "\n",
    "        pep_batch = pep_batch.reshape(-1, oh_matr_size)\n",
    "\n",
    "        # autoencoder reconstruction\n",
    "        pep_batch_recon = autoencoder_1sm_oh(pep_batch)\n",
    "\n",
    "        # reconstruction error\n",
    "        loss = loss_function(pep_batch_recon, pep_batch)\n",
    "\n",
    "        if counter == 0:\n",
    "            print(\"Example of reconstruction:\")\n",
    "            print(\"Before autoencoder:\\n\", pep_batch[0].reshape(len(AA_LIST), len_seq))\n",
    "            print(\"Reconstruction error:\", loss.item())\n",
    "            print(\"After autoencoder:\\n\", torch.round(pep_batch_recon[0].reshape(len(AA_LIST), len_seq)))\n",
    "            counter +=1\n",
    "\n",
    "        test_loss_avg += loss.item()\n",
    "        num_batches += 1\n",
    "        \n",
    "    \n",
    "test_loss_avg /= num_batches\n",
    "print('average reconstruction error: %f' % (test_loss_avg))"
   ]
  },
  {
   "cell_type": "markdown",
   "id": "8db428c5-4df1-454a-8d17-fe7b0d4deec9",
   "metadata": {},
   "source": [
    "## Autoencoder_1SM definition (1 layer, Sigmoid, MSE loss) Atchley factors"
   ]
  },
  {
   "cell_type": "code",
   "execution_count": 14,
   "id": "30bf3573-7083-4a68-923f-72c08eeebf32",
   "metadata": {},
   "outputs": [
    {
     "name": "stdout",
     "output_type": "stream",
     "text": [
      "Number of parameters for Atchley factors encoding: 7625\n"
     ]
    }
   ],
   "source": [
    "class Encoder_af(nn.Module):\n",
    "    def __init__(self):\n",
    "        super(Encoder_af, self).__init__()\n",
    "        self.fc = nn.Linear(in_features=5*len_seq, out_features=latent_dims)\n",
    "            \n",
    "    def forward(self, x):\n",
    "        x = self.fc(x)\n",
    "        #x = nn.ReLU(x)\n",
    "        return x\n",
    "\n",
    "class Decoder_af(nn.Module):\n",
    "    def __init__(self):\n",
    "        super(Decoder_af, self).__init__()\n",
    "        self.fc = nn.Linear(in_features=latent_dims, out_features=5*len_seq)\n",
    "            \n",
    "    def forward(self, x):\n",
    "        x = self.fc(x)\n",
    "        #x = F.sigmoid(x) very bad results with sigmoid\n",
    "        return x\n",
    "    \n",
    "class Autoencoder_af(nn.Module):\n",
    "    def __init__(self):\n",
    "        super(Autoencoder_af, self).__init__()\n",
    "        self.encoder = Encoder_af()\n",
    "        self.decoder = Decoder_af()\n",
    "    \n",
    "    def forward(self, x):\n",
    "        latent = self.encoder(x)\n",
    "        x_recon = self.decoder(latent)\n",
    "        return x_recon\n",
    "    \n",
    "autoencoder_1sm_af = Autoencoder_af() #Atchley factors encoded\n",
    "\n",
    "if use_gpu and torch.cuda.is_available():\n",
    "    device = torch.device(\"cuda:0\")\n",
    "elif use_gpu and torch.backends.mps.is_available():\n",
    "    device = torch.device(\"mps\")\n",
    "else:\n",
    "    device = torch.device(\"cpu\")\n",
    "\n",
    "autoencoder_1sm_af = autoencoder_1sm_af.to(device)\n",
    "\n",
    "num_params = sum(p.numel() for p in autoencoder_1sm_af.parameters() if p.requires_grad)\n",
    "print('Number of parameters for Atchley factors encoding: %d' % num_params)\n",
    "\n",
    "loss_function = nn.MSELoss()"
   ]
  },
  {
   "cell_type": "markdown",
   "id": "3fafd7d7-3e31-45d6-b4c1-0e545161c8d2",
   "metadata": {},
   "source": [
    "### Train autoencoder (Atchley factors)"
   ]
  },
  {
   "cell_type": "code",
   "execution_count": 15,
   "id": "abd4b696-4863-4545-a4fb-2eac6b1366de",
   "metadata": {},
   "outputs": [
    {
     "name": "stdout",
     "output_type": "stream",
     "text": [
      "Training ...\n",
      "Epoch [1 / 50] average reconstruction error: 2.267631\n",
      "Epoch [2 / 50] average reconstruction error: 1.865444\n",
      "Epoch [3 / 50] average reconstruction error: 1.532457\n",
      "Epoch [4 / 50] average reconstruction error: 1.283672\n",
      "Epoch [5 / 50] average reconstruction error: 1.118454\n",
      "Epoch [6 / 50] average reconstruction error: 0.991441\n",
      "Epoch [7 / 50] average reconstruction error: 0.881011\n",
      "Epoch [8 / 50] average reconstruction error: 0.777920\n",
      "Epoch [9 / 50] average reconstruction error: 0.683560\n",
      "Epoch [10 / 50] average reconstruction error: 0.599879\n",
      "Epoch [11 / 50] average reconstruction error: 0.527671\n",
      "Epoch [12 / 50] average reconstruction error: 0.464357\n",
      "Epoch [13 / 50] average reconstruction error: 0.412079\n",
      "Epoch [14 / 50] average reconstruction error: 0.368407\n",
      "Epoch [15 / 50] average reconstruction error: 0.332142\n",
      "Epoch [16 / 50] average reconstruction error: 0.302388\n",
      "Epoch [17 / 50] average reconstruction error: 0.277490\n",
      "Epoch [18 / 50] average reconstruction error: 0.256331\n",
      "Epoch [19 / 50] average reconstruction error: 0.238473\n",
      "Epoch [20 / 50] average reconstruction error: 0.222923\n",
      "Epoch [21 / 50] average reconstruction error: 0.208031\n",
      "Epoch [22 / 50] average reconstruction error: 0.196251\n",
      "Epoch [23 / 50] average reconstruction error: 0.184495\n",
      "Epoch [24 / 50] average reconstruction error: 0.174774\n",
      "Epoch [25 / 50] average reconstruction error: 0.165357\n",
      "Epoch [26 / 50] average reconstruction error: 0.157027\n",
      "Epoch [27 / 50] average reconstruction error: 0.149550\n",
      "Epoch [28 / 50] average reconstruction error: 0.142656\n",
      "Epoch [29 / 50] average reconstruction error: 0.136314\n",
      "Epoch [30 / 50] average reconstruction error: 0.130595\n",
      "Epoch [31 / 50] average reconstruction error: 0.125045\n",
      "Epoch [32 / 50] average reconstruction error: 0.120120\n",
      "Epoch [33 / 50] average reconstruction error: 0.116001\n",
      "Epoch [34 / 50] average reconstruction error: 0.111993\n",
      "Epoch [35 / 50] average reconstruction error: 0.108352\n",
      "Epoch [36 / 50] average reconstruction error: 0.104807\n",
      "Epoch [37 / 50] average reconstruction error: 0.101240\n",
      "Epoch [38 / 50] average reconstruction error: 0.097825\n",
      "Epoch [39 / 50] average reconstruction error: 0.094927\n",
      "Epoch [40 / 50] average reconstruction error: 0.092584\n",
      "Epoch [41 / 50] average reconstruction error: 0.089431\n",
      "Epoch [42 / 50] average reconstruction error: 0.087059\n",
      "Epoch [43 / 50] average reconstruction error: 0.084619\n",
      "Epoch [44 / 50] average reconstruction error: 0.081862\n",
      "Epoch [45 / 50] average reconstruction error: 0.080016\n",
      "Epoch [46 / 50] average reconstruction error: 0.077888\n",
      "Epoch [47 / 50] average reconstruction error: 0.075850\n",
      "Epoch [48 / 50] average reconstruction error: 0.073906\n",
      "Epoch [49 / 50] average reconstruction error: 0.071852\n",
      "Epoch [50 / 50] average reconstruction error: 0.069950\n"
     ]
    }
   ],
   "source": [
    "optimizer = torch.optim.Adam(autoencoder_1sm_af.parameters(), lr = learning_rate, weight_decay = 1e-5)\n",
    "# set to training mode\n",
    "autoencoder_1sm_af.train()\n",
    "\n",
    "train_loss_avg = []\n",
    "\n",
    "print('Training ...')\n",
    "for epoch in range(num_epochs):\n",
    "    train_loss_avg.append(0)\n",
    "    num_batches = 0\n",
    "    \n",
    "    for pep_batch, _ in af_encoded_dl_train:\n",
    "        \n",
    "        pep_batch = pep_batch.to(device)\n",
    "\n",
    "        pep_batch = pep_batch.reshape(-1, af_matr_size)\n",
    "        \n",
    "        # autoencoder reconstruction\n",
    "        pep_batch_recon = autoencoder_1sm_af(pep_batch)\n",
    "        \n",
    "        # reconstruction error\n",
    "        loss = loss_function(pep_batch_recon, pep_batch)\n",
    "        \n",
    "        # backpropagation\n",
    "        optimizer.zero_grad()\n",
    "        loss.backward()\n",
    "        \n",
    "        # one step of the optmizer (using the gradients from backpropagation)\n",
    "        optimizer.step()\n",
    "        \n",
    "        train_loss_avg[-1] += loss.item()\n",
    "        num_batches += 1\n",
    "        \n",
    "    train_loss_avg[-1] /= num_batches\n",
    "    print('Epoch [%d / %d] average reconstruction error: %f' % (epoch+1, num_epochs, train_loss_avg[-1]))"
   ]
  },
  {
   "cell_type": "code",
   "execution_count": 16,
   "id": "7e59e0e4-b959-4c3c-b1cd-fa32b367d38d",
   "metadata": {},
   "outputs": [
    {
     "data": {
      "image/png": "[encoded data removed]",
      "text/plain": [
       "<Figure size 640x480 with 1 Axes>"
      ]
     },
     "metadata": {},
     "output_type": "display_data"
    }
   ],
   "source": [
    "fig = plt.figure()\n",
    "plt.plot(train_loss_avg)\n",
    "plt.xlabel('Epochs')\n",
    "plt.ylabel('Reconstruction error')\n",
    "plt.title(\"Reconstruction error for Autoencoder_1SM (1 layer, sigmoid, MSE loss) One-hot\")\n",
    "plt.show()"
   ]
  },
  {
   "cell_type": "code",
   "execution_count": 17,
   "id": "471c2e05-6d91-4d74-a770-c6606f3aa69c",
   "metadata": {},
   "outputs": [
    {
     "name": "stdout",
     "output_type": "stream",
     "text": [
      "Example of reconstruction:\n",
      "Before autoencoder:\n",
      " tensor([[-1.3427, -0.5915, -0.2279, -0.2279, -1.3366,  0.2600,  1.5375, -0.3839,\n",
      "          0.9306, -0.5915,  0.9454,  1.3573,  0.9306, -1.0061, -1.0061],\n",
      "        [ 0.4654, -1.3021,  1.3987,  1.3987, -0.2785,  0.8299, -0.0547,  1.6520,\n",
      "         -0.1793, -1.3021,  0.8285, -1.4528, -0.1793, -0.5905, -0.5905],\n",
      "        [-0.8620, -0.7331, -4.7596, -4.7596, -0.5440,  3.0974,  1.5021,  1.3301,\n",
      "         -3.0049, -0.7331,  1.2991,  1.4767, -3.0049,  1.8910,  1.8910],\n",
      "        [-1.0201,  1.5704,  0.6702,  0.6702,  1.2420, -0.8380,  0.4403,  1.0450,\n",
      "         -0.5026,  1.5704, -0.1688,  0.1129, -0.5026, -0.3966, -0.3966],\n",
      "        [-0.2552, -0.1455, -2.6475, -2.6475, -1.2623,  1.5115,  2.8974,  2.0639,\n",
      "         -1.8530, -0.1455,  0.9334, -0.8372, -1.8530,  0.4119,  0.4119]],\n",
      "       device='mps:0')\n",
      "Reconstruction error: 0.06859856098890305\n",
      "After autoencoder:\n",
      " tensor([[-1.2632, -0.5298,  0.0674, -0.0653, -1.3859,  0.3295,  1.2940, -0.3288,\n",
      "          1.0050, -0.9638,  0.5331,  1.4517,  0.7773, -1.0061, -0.9235],\n",
      "        [ 0.3681, -1.4037,  1.5321,  1.2147, -0.4365,  0.5421, -0.0395,  1.4846,\n",
      "          0.0484, -1.0994,  0.8522, -1.0440, -0.3956, -0.3038, -0.6238],\n",
      "        [-0.9820, -0.9813, -4.9297, -4.7299, -0.7612,  2.6356,  2.1283,  1.3055,\n",
      "         -2.8965, -0.4211,  1.1782,  1.6252, -3.1493,  1.8693,  1.6458],\n",
      "        [-0.9318,  1.3390,  0.6706,  0.5863,  1.0678, -0.5491,  0.2495,  1.1153,\n",
      "          0.1966,  1.3286, -0.2211, -0.0505, -0.1921, -0.6888, -0.4823],\n",
      "        [-0.1940, -0.2661, -2.6423, -2.6460, -0.9918,  1.9594,  2.2791,  1.9980,\n",
      "         -1.7710, -0.3433,  1.0808, -0.7329, -1.8967,  0.3508,  0.4858]],\n",
      "       device='mps:0')\n",
      "\n",
      "\n",
      "average reconstruction error: 0.069366\n"
     ]
    }
   ],
   "source": [
    "# set to evaluation mode\n",
    "autoencoder_1sm_af.eval()\n",
    "counter = 0\n",
    "\n",
    "test_loss_avg, num_batches = 0, 0\n",
    "for pep_batch, _ in af_encoded_dl_test:\n",
    "    \n",
    "    with torch.no_grad():\n",
    "\n",
    "        pep_batch = pep_batch.to(device)\n",
    "\n",
    "        pep_batch = pep_batch.reshape(-1, af_matr_size)\n",
    "\n",
    "        # autoencoder reconstruction\n",
    "        pep_batch_recon = autoencoder_1sm_af(pep_batch)\n",
    "\n",
    "        # reconstruction error\n",
    "        loss = loss_function(pep_batch_recon, pep_batch)\n",
    "\n",
    "        if counter == 0:\n",
    "            print(\"Example of reconstruction:\")\n",
    "            print(\"Before autoencoder:\\n\", pep_batch[0].reshape(5, len_seq))\n",
    "            print(\"Reconstruction error:\", loss.item())\n",
    "            print(\"After autoencoder:\\n\", pep_batch_recon[0].reshape(5, len_seq))\n",
    "            counter +=1\n",
    "\n",
    "        test_loss_avg += loss.item()\n",
    "        num_batches += 1\n",
    "        \n",
    "    \n",
    "test_loss_avg /= num_batches\n",
    "print('\\n\\naverage reconstruction error: %f' % (test_loss_avg))"
   ]
  },
  {
   "cell_type": "code",
   "execution_count": null,
   "id": "03873349-6b71-4a24-9e2a-5ee457165de0",
   "metadata": {},
   "outputs": [],
   "source": []
  },
  {
   "cell_type": "code",
   "execution_count": null,
   "id": "aa56f7e2-c702-4670-be9e-38a18de819b1",
   "metadata": {},
   "outputs": [],
   "source": []
  },
  {
   "cell_type": "markdown",
   "id": "6d73248a-0c87-44d6-a206-85e71b968b12",
   "metadata": {},
   "source": [
    "## Autoencoder_1SB definition (1 layer, Sigmoid, BCE loss)"
   ]
  },
  {
   "cell_type": "code",
   "execution_count": 18,
   "id": "102a7220-fb5b-4e6d-97d3-afe7ea3cedb3",
   "metadata": {},
   "outputs": [
    {
     "name": "stdout",
     "output_type": "stream",
     "text": [
      "Number of parameters: 30350\n"
     ]
    }
   ],
   "source": [
    "autoencoder_1sb = Autoencoder()\n",
    "\n",
    "if use_gpu and torch.cuda.is_available():\n",
    "    device = torch.device(\"cuda:0\")\n",
    "elif use_gpu and torch.backends.mps.is_available():\n",
    "    device = torch.device(\"mps\")\n",
    "else:\n",
    "    device = torch.device(\"cpu\")\n",
    "\n",
    "autoencoder_1sb = autoencoder_1sb.to(device)\n",
    "\n",
    "num_params = sum(p.numel() for p in autoencoder_1sb.parameters() if p.requires_grad)\n",
    "print('Number of parameters: %d' % num_params)\n",
    "\n",
    "loss_function = nn.BCELoss()\n",
    "\n",
    "optimizer = torch.optim.Adam(autoencoder_1sb.parameters(), lr = learning_rate, weight_decay = 1e-5)"
   ]
  },
  {
   "cell_type": "markdown",
   "id": "e2eadfca-95c8-4c34-9e12-789a4a1b934d",
   "metadata": {},
   "source": [
    "### Train"
   ]
  },
  {
   "cell_type": "code",
   "execution_count": 19,
   "id": "15a8e043-4fd8-4f36-9edf-db3f60ee7a74",
   "metadata": {},
   "outputs": [
    {
     "name": "stdout",
     "output_type": "stream",
     "text": [
      "Training ...\n",
      "Epoch [1 / 50] average reconstruction error: 0.682973\n",
      "Epoch [2 / 50] average reconstruction error: 0.644483\n",
      "Epoch [3 / 50] average reconstruction error: 0.576643\n",
      "Epoch [4 / 50] average reconstruction error: 0.481542\n",
      "Epoch [5 / 50] average reconstruction error: 0.374100\n",
      "Epoch [6 / 50] average reconstruction error: 0.277395\n",
      "Epoch [7 / 50] average reconstruction error: 0.208518\n",
      "Epoch [8 / 50] average reconstruction error: 0.168524\n",
      "Epoch [9 / 50] average reconstruction error: 0.148097\n",
      "Epoch [10 / 50] average reconstruction error: 0.138016\n",
      "Epoch [11 / 50] average reconstruction error: 0.132431\n",
      "Epoch [12 / 50] average reconstruction error: 0.128992\n",
      "Epoch [13 / 50] average reconstruction error: 0.126835\n",
      "Epoch [14 / 50] average reconstruction error: 0.125267\n",
      "Epoch [15 / 50] average reconstruction error: 0.124231\n",
      "Epoch [16 / 50] average reconstruction error: 0.123235\n",
      "Epoch [17 / 50] average reconstruction error: 0.122349\n",
      "Epoch [18 / 50] average reconstruction error: 0.121595\n",
      "Epoch [19 / 50] average reconstruction error: 0.120968\n",
      "Epoch [20 / 50] average reconstruction error: 0.120339\n",
      "Epoch [21 / 50] average reconstruction error: 0.119689\n",
      "Epoch [22 / 50] average reconstruction error: 0.119040\n",
      "Epoch [23 / 50] average reconstruction error: 0.118404\n",
      "Epoch [24 / 50] average reconstruction error: 0.117782\n",
      "Epoch [25 / 50] average reconstruction error: 0.117024\n",
      "Epoch [26 / 50] average reconstruction error: 0.116206\n",
      "Epoch [27 / 50] average reconstruction error: 0.115525\n",
      "Epoch [28 / 50] average reconstruction error: 0.114818\n",
      "Epoch [29 / 50] average reconstruction error: 0.114064\n",
      "Epoch [30 / 50] average reconstruction error: 0.113351\n",
      "Epoch [31 / 50] average reconstruction error: 0.112591\n",
      "Epoch [32 / 50] average reconstruction error: 0.111812\n",
      "Epoch [33 / 50] average reconstruction error: 0.111179\n",
      "Epoch [34 / 50] average reconstruction error: 0.110353\n",
      "Epoch [35 / 50] average reconstruction error: 0.109664\n",
      "Epoch [36 / 50] average reconstruction error: 0.108976\n",
      "Epoch [37 / 50] average reconstruction error: 0.108241\n",
      "Epoch [38 / 50] average reconstruction error: 0.107522\n",
      "Epoch [39 / 50] average reconstruction error: 0.106909\n",
      "Epoch [40 / 50] average reconstruction error: 0.106133\n",
      "Epoch [41 / 50] average reconstruction error: 0.105425\n",
      "Epoch [42 / 50] average reconstruction error: 0.104768\n",
      "Epoch [43 / 50] average reconstruction error: 0.104177\n",
      "Epoch [44 / 50] average reconstruction error: 0.103393\n",
      "Epoch [45 / 50] average reconstruction error: 0.102721\n",
      "Epoch [46 / 50] average reconstruction error: 0.101946\n",
      "Epoch [47 / 50] average reconstruction error: 0.101125\n",
      "Epoch [48 / 50] average reconstruction error: 0.100426\n",
      "Epoch [49 / 50] average reconstruction error: 0.099730\n",
      "Epoch [50 / 50] average reconstruction error: 0.099026\n"
     ]
    }
   ],
   "source": [
    "autoencoder_1sb.train()\n",
    "\n",
    "train_loss_avg = []\n",
    "\n",
    "print('Training ...')\n",
    "for epoch in range(num_epochs):\n",
    "    train_loss_avg.append(0)\n",
    "    num_batches = 0\n",
    "    \n",
    "    for pep_batch, _ in oh_encoded_dl_train:\n",
    "        \n",
    "        pep_batch = pep_batch.to(device)\n",
    "\n",
    "        pep_batch = pep_batch.reshape(-1, oh_matr_size)\n",
    "        \n",
    "        # autoencoder reconstruction\n",
    "        pep_batch_recon = autoencoder_1sb(pep_batch)\n",
    "        \n",
    "        # reconstruction error\n",
    "        loss = loss_function(pep_batch_recon, pep_batch)\n",
    "        \n",
    "        # backpropagation\n",
    "        optimizer.zero_grad()\n",
    "        loss.backward()\n",
    "        \n",
    "        # one step of the optmizer (using the gradients from backpropagation)\n",
    "        optimizer.step()\n",
    "        \n",
    "        train_loss_avg[-1] += loss.item()\n",
    "        num_batches += 1\n",
    "        \n",
    "    train_loss_avg[-1] /= num_batches\n",
    "    print('Epoch [%d / %d] average reconstruction error: %f' % (epoch+1, num_epochs, train_loss_avg[-1]))"
   ]
  },
  {
   "cell_type": "code",
   "execution_count": 20,
   "id": "b2273299-2acc-408e-82d3-999118cb967f",
   "metadata": {},
   "outputs": [
    {
     "data": {
      "image/png": "[encoded data removed]",
      "text/plain": [
       "<Figure size 640x480 with 1 Axes>"
      ]
     },
     "metadata": {},
     "output_type": "display_data"
    }
   ],
   "source": [
    "fig = plt.figure()\n",
    "plt.plot(train_loss_avg)\n",
    "plt.xlabel('Epochs')\n",
    "plt.ylabel('Reconstruction error')\n",
    "plt.title(\"Reconstruction error for Autoencoder_1SB (1 layer, sigmoid, BCE loss)\")\n",
    "plt.show()"
   ]
  },
  {
   "cell_type": "code",
   "execution_count": 21,
   "id": "fb7ec083-046b-4e25-ab88-56667e600d8e",
   "metadata": {},
   "outputs": [
    {
     "name": "stdout",
     "output_type": "stream",
     "text": [
      "Example of reconstruction:\n",
      "Before autoencoder:\n",
      " tensor([[0., 1., 0., 0., 0., 0., 0., 1., 0., 0., 0., 0., 0., 0., 0.],\n",
      "        [1., 0., 0., 0., 0., 0., 0., 0., 0., 0., 0., 0., 0., 0., 0.],\n",
      "        [0., 0., 0., 0., 0., 0., 0., 0., 0., 0., 0., 0., 0., 0., 0.],\n",
      "        [0., 0., 0., 0., 1., 0., 0., 0., 0., 0., 0., 0., 0., 0., 0.],\n",
      "        [0., 0., 0., 0., 0., 0., 0., 0., 0., 0., 0., 0., 0., 0., 1.],\n",
      "        [0., 0., 0., 1., 0., 0., 1., 0., 0., 0., 1., 0., 0., 0., 0.],\n",
      "        [0., 0., 0., 0., 0., 0., 0., 0., 0., 0., 0., 0., 0., 0., 0.],\n",
      "        [0., 0., 0., 0., 0., 0., 0., 0., 0., 0., 0., 0., 0., 0., 0.],\n",
      "        [0., 0., 0., 0., 0., 0., 0., 0., 0., 0., 0., 1., 0., 0., 0.],\n",
      "        [0., 0., 1., 0., 0., 0., 0., 0., 0., 0., 0., 0., 1., 0., 0.],\n",
      "        [0., 0., 0., 0., 0., 0., 0., 0., 0., 0., 0., 0., 0., 0., 0.],\n",
      "        [0., 0., 0., 0., 0., 0., 0., 0., 1., 0., 0., 0., 0., 0., 0.],\n",
      "        [0., 0., 0., 0., 0., 0., 0., 0., 0., 0., 0., 0., 0., 0., 0.],\n",
      "        [0., 0., 0., 0., 0., 0., 0., 0., 0., 0., 0., 0., 0., 0., 0.],\n",
      "        [0., 0., 0., 0., 0., 0., 0., 0., 0., 0., 0., 0., 0., 0., 0.],\n",
      "        [0., 0., 0., 0., 0., 0., 0., 0., 0., 0., 0., 0., 0., 0., 0.],\n",
      "        [0., 0., 0., 0., 0., 1., 0., 0., 0., 1., 0., 0., 0., 1., 0.],\n",
      "        [0., 0., 0., 0., 0., 0., 0., 0., 0., 0., 0., 0., 0., 0., 0.],\n",
      "        [0., 0., 0., 0., 0., 0., 0., 0., 0., 0., 0., 0., 0., 0., 0.],\n",
      "        [0., 0., 0., 0., 0., 0., 0., 0., 0., 0., 0., 0., 0., 0., 0.]],\n",
      "       device='mps:0')\n",
      "Reconstruction error: 0.0988691970705986\n",
      "After autoencoder:\n",
      " tensor([[0., 1., 0., 0., 0., 0., 0., 0., 0., 0., 0., 0., 0., 0., 0.],\n",
      "        [1., 0., 0., 0., 0., 0., 0., 0., 0., 0., 0., 0., 0., 0., 0.],\n",
      "        [0., 0., 0., 0., 0., 0., 0., 0., 0., 0., 0., 0., 0., 0., 0.],\n",
      "        [0., 0., 0., 0., 0., 0., 0., 0., 0., 0., 0., 0., 0., 0., 0.],\n",
      "        [0., 0., 0., 0., 0., 0., 0., 0., 0., 0., 0., 0., 0., 0., 1.],\n",
      "        [0., 0., 0., 0., 0., 0., 0., 0., 0., 0., 0., 0., 0., 0., 0.],\n",
      "        [0., 0., 0., 0., 0., 0., 0., 0., 0., 0., 0., 0., 0., 0., 0.],\n",
      "        [0., 0., 0., 0., 0., 0., 0., 0., 0., 0., 0., 0., 0., 0., 0.],\n",
      "        [0., 0., 0., 0., 0., 0., 0., 0., 0., 0., 0., 1., 0., 0., 0.],\n",
      "        [0., 0., 0., 0., 0., 0., 0., 0., 0., 0., 0., 0., 1., 0., 0.],\n",
      "        [0., 0., 0., 0., 0., 0., 0., 0., 0., 0., 0., 0., 0., 0., 0.],\n",
      "        [0., 0., 0., 0., 0., 0., 0., 0., 0., 0., 0., 0., 0., 0., 0.],\n",
      "        [0., 0., 0., 0., 0., 0., 0., 0., 0., 0., 0., 0., 0., 0., 0.],\n",
      "        [0., 0., 0., 0., 0., 0., 0., 0., 0., 0., 0., 0., 0., 0., 0.],\n",
      "        [0., 0., 0., 0., 0., 0., 0., 0., 0., 0., 0., 0., 0., 0., 0.],\n",
      "        [0., 0., 0., 0., 0., 0., 0., 0., 0., 0., 0., 0., 0., 0., 0.],\n",
      "        [0., 0., 0., 0., 0., 0., 0., 0., 0., 0., 0., 0., 0., 1., 0.],\n",
      "        [0., 0., 0., 0., 0., 0., 0., 0., 0., 0., 0., 0., 0., 0., 0.],\n",
      "        [0., 0., 0., 0., 0., 0., 0., 0., 0., 0., 0., 0., 0., 0., 0.],\n",
      "        [0., 0., 0., 0., 0., 0., 0., 0., 0., 0., 0., 0., 0., 0., 0.]],\n",
      "       device='mps:0')\n",
      "average reconstruction error: 0.099349\n"
     ]
    }
   ],
   "source": [
    "# set to evaluation mode\n",
    "autoencoder_1sb.eval()\n",
    "counter = 0\n",
    "\n",
    "test_loss_avg, num_batches = 0, 0\n",
    "for pep_batch, _ in oh_encoded_dl_test:\n",
    "    \n",
    "    with torch.no_grad():\n",
    "\n",
    "        pep_batch = pep_batch.to(device)\n",
    "\n",
    "        pep_batch = pep_batch.reshape(-1, oh_matr_size)\n",
    "\n",
    "        # autoencoder reconstruction\n",
    "        pep_batch_recon = autoencoder_1sb(pep_batch)\n",
    "\n",
    "        # reconstruction error\n",
    "        loss = loss_function(pep_batch_recon, pep_batch)\n",
    "\n",
    "        if counter == 0:\n",
    "            print(\"Example of reconstruction:\")\n",
    "            print(\"Before autoencoder:\\n\", pep_batch[0].reshape(len(AA_LIST), len_seq))\n",
    "            print(\"Reconstruction error:\", loss.item())\n",
    "            print(\"After autoencoder:\\n\", torch.round(pep_batch_recon[0].reshape(len(AA_LIST), len_seq)))\n",
    "            counter +=1\n",
    "\n",
    "        test_loss_avg += loss.item()\n",
    "        num_batches += 1\n",
    "        \n",
    "    \n",
    "test_loss_avg /= num_batches\n",
    "print('average reconstruction error: %f' % (test_loss_avg))"
   ]
  },
  {
   "cell_type": "code",
   "execution_count": null,
   "id": "2a6fd311-8d97-4282-880b-d1bea0ce8452",
   "metadata": {},
   "outputs": [],
   "source": []
  }
 ],
 "metadata": {
  "kernelspec": {
   "display_name": "tcreppred_sil",
   "language": "python",
   "name": "tcreppred_sil"
  },
  "language_info": {
   "codemirror_mode": {
    "name": "ipython",
    "version": 3
   },
   "file_extension": ".py",
   "mimetype": "text/x-python",
   "name": "python",
   "nbconvert_exporter": "python",
   "pygments_lexer": "ipython3",
   "version": "3.12.8"
  }
 },
 "nbformat": 4,
 "nbformat_minor": 5
}
